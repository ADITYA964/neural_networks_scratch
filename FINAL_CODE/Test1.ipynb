{
  "nbformat": 4,
  "nbformat_minor": 0,
  "metadata": {
    "kernelspec": {
      "display_name": "Python 3",
      "language": "python",
      "name": "python3"
    },
    "language_info": {
      "codemirror_mode": {
        "name": "ipython",
        "version": 3
      },
      "file_extension": ".py",
      "mimetype": "text/x-python",
      "name": "python",
      "nbconvert_exporter": "python",
      "pygments_lexer": "ipython3",
      "version": "3.7.7"
    },
    "colab": {
      "name": "Dummy_run.ipynb",
      "provenance": [],
      "collapsed_sections": []
    }
  },
  "cells": [
    {
      "cell_type": "code",
      "metadata": {
        "id": "7ouGQKSxyAde",
        "colab_type": "code",
        "colab": {}
      },
      "source": [
        "from google.colab import files\n",
        "\n",
        "# Install Kaggle library\n",
        "!pip install -q kaggle\n",
        "\n",
        "!mkdir ~/.kaggle\n",
        "!cp /content/kaggle.json ~/.kaggle/kaggle.json"
      ],
      "execution_count": null,
      "outputs": []
    },
    {
      "cell_type": "code",
      "metadata": {
        "id": "MwRToQJxyASQ",
        "colab_type": "code",
        "colab": {
          "base_uri": "https://localhost:8080/",
          "height": 85
        },
        "outputId": "9cf7f3d0-9e75-48a8-cda4-a269bfb515cd"
      },
      "source": [
        "!kaggle datasets download -d biaiscience/dogs-vs-cats"
      ],
      "execution_count": null,
      "outputs": [
        {
          "output_type": "stream",
          "text": [
            "Warning: Your Kaggle API key is readable by other users on this system! To fix this, you can run 'chmod 600 /root/.kaggle/kaggle.json'\n",
            "Downloading dogs-vs-cats.zip to /content\n",
            " 98% 801M/817M [00:09<00:00, 114MB/s]\n",
            "100% 817M/817M [00:10<00:00, 85.6MB/s]\n"
          ],
          "name": "stdout"
        }
      ]
    },
    {
      "cell_type": "code",
      "metadata": {
        "id": "C2r6Og-1yAPH",
        "colab_type": "code",
        "colab": {}
      },
      "source": [
        "!unzip /content/dogs-vs-cats.zip"
      ],
      "execution_count": null,
      "outputs": []
    },
    {
      "cell_type": "code",
      "metadata": {
        "id": "33WFJbuPCaE7",
        "colab_type": "code",
        "colab": {}
      },
      "source": [
        "from CNN import CNN\n",
        "from max_pool import max_pool\n",
        "from NeuralNetwork import NeuralNetwork,one_hot,softmax,loss \n",
        "import numpy as np\n",
        "import pandas as pd"
      ],
      "execution_count": null,
      "outputs": []
    },
    {
      "cell_type": "code",
      "metadata": {
        "id": "932VrJBGyALq",
        "colab_type": "code",
        "colab": {
          "base_uri": "https://localhost:8080/",
          "height": 34
        },
        "outputId": "a45500ba-3892-49d4-d0d2-a176c8e95166"
      },
      "source": [
        "from keras.preprocessing import image\n",
        "import numpy as np\n",
        "import matplotlib.pyplot as plt\n",
        "import os"
      ],
      "execution_count": null,
      "outputs": [
        {
          "output_type": "stream",
          "text": [
            "Using TensorFlow backend.\n"
          ],
          "name": "stderr"
        }
      ]
    },
    {
      "cell_type": "code",
      "metadata": {
        "id": "CsgR0xREyAC_",
        "colab_type": "code",
        "colab": {}
      },
      "source": [
        "path1 = '/content/train/train'\n",
        "images_data = []\n",
        "label = []\n",
        "for images in os.listdir(path1):\n",
        "  \n",
        "    name = images.split('.')[0]\n",
        "    img = image.load_img(path1+'/'+images,target_size=(100,100))\n",
        "    img = image.img_to_array(img)\n",
        "    #img = np.expand_dims(img,axis=0)\n",
        "    img = img/255.0\n",
        "    images_data.append(img)\n",
        "    label.append(name)\n",
        "    break"
      ],
      "execution_count": null,
      "outputs": []
    },
    {
      "cell_type": "code",
      "metadata": {
        "id": "JJZcJKcgyz2f",
        "colab_type": "code",
        "colab": {}
      },
      "source": [
        "images_data = np.array(images_data)\n",
        "label = np.array(label)"
      ],
      "execution_count": null,
      "outputs": []
    },
    {
      "cell_type": "code",
      "metadata": {
        "id": "SF4dp2u0mvp2",
        "colab_type": "code",
        "colab": {}
      },
      "source": [
        "images_data = np.moveaxis(images_data,-1,1)"
      ],
      "execution_count": null,
      "outputs": []
    },
    {
      "cell_type": "code",
      "metadata": {
        "id": "tZnqwe_uyzsc",
        "colab_type": "code",
        "colab": {
          "base_uri": "https://localhost:8080/",
          "height": 34
        },
        "outputId": "60643ea3-9b2f-4ca5-8751-5bf14c814ecc"
      },
      "source": [
        "images_data.shape,label.shape"
      ],
      "execution_count": null,
      "outputs": [
        {
          "output_type": "execute_result",
          "data": {
            "text/plain": [
              "((1, 3, 100, 100), (1,))"
            ]
          },
          "metadata": {
            "tags": []
          },
          "execution_count": 6
        }
      ]
    },
    {
      "cell_type": "code",
      "metadata": {
        "id": "BxIZCcGgnTkP",
        "colab_type": "code",
        "colab": {
          "base_uri": "https://localhost:8080/",
          "height": 285
        },
        "outputId": "29a16378-af4d-44c4-c932-755ed87747c1"
      },
      "source": [
        "plt.imshow(images_data[1])"
      ],
      "execution_count": null,
      "outputs": [
        {
          "output_type": "execute_result",
          "data": {
            "text/plain": [
              "<matplotlib.image.AxesImage at 0x7ff67fef0e10>"
            ]
          },
          "metadata": {
            "tags": []
          },
          "execution_count": 31
        },
        {
          "output_type": "display_data",
          "data": {
            "image/png": "[encoded data removed]",
            "text/plain": [
              "<Figure size 432x288 with 1 Axes>"
            ]
          },
          "metadata": {
            "tags": [],
            "needs_background": "light"
          }
        }
      ]
    },
    {
      "cell_type": "code",
      "metadata": {
        "id": "3rzTwJAByzg1",
        "colab_type": "code",
        "colab": {}
      },
      "source": [
        "from sklearn.preprocessing import LabelEncoder\n",
        "le = LabelEncoder()\n",
        "label = le.fit_transform(label)"
      ],
      "execution_count": null,
      "outputs": []
    },
    {
      "cell_type": "code",
      "metadata": {
        "id": "FOflampAy5Yx",
        "colab_type": "code",
        "colab": {}
      },
      "source": [
        "label = np.reshape(label,(25000,1))"
      ],
      "execution_count": null,
      "outputs": []
    },
    {
      "cell_type": "code",
      "metadata": {
        "id": "TcoGy4cR6jG1",
        "colab_type": "code",
        "colab": {}
      },
      "source": [
        "from sklearn.model_selection import train_test_split\n",
        "X, x_val, Y, y_val = train_test_split(images_data,label,test_size=0.8, random_state = 22 , shuffle =True)\n",
        "del(images_data)\n",
        "del(label)"
      ],
      "execution_count": null,
      "outputs": []
    },
    {
      "cell_type": "code",
      "metadata": {
        "id": "npYn08A26lvX",
        "colab_type": "code",
        "colab": {}
      },
      "source": [
        "x_val1,y_val1 = x_val[5000:10000],y_val[5000:10000] "
      ],
      "execution_count": null,
      "outputs": []
    },
    {
      "cell_type": "code",
      "metadata": {
        "id": "-rL4ghFQzI04",
        "colab_type": "code",
        "colab": {
          "base_uri": "https://localhost:8080/",
          "height": 34
        },
        "outputId": "0841ae99-52d2-4311-efa9-e830b27efaf6"
      },
      "source": [
        "X.shape,Y.shape,x_val1.shape,y_val1.shape"
      ],
      "execution_count": null,
      "outputs": [
        {
          "output_type": "execute_result",
          "data": {
            "text/plain": [
              "((5000, 3, 100, 100), (5000, 1), (5000, 3, 100, 100), (5000, 1))"
            ]
          },
          "metadata": {
            "tags": []
          },
          "execution_count": 11
        }
      ]
    },
    {
      "cell_type": "code",
      "metadata": {
        "scrolled": true,
        "id": "SPGP5EUxCaFP",
        "colab_type": "code",
        "colab": {}
      },
      "source": [
        "conv_layer1 = CNN(n_f = 32 , f = 3 , stride = 1 , padding = 'same')\n",
        "#conv_layer2 = CNN(n_f = 64 , f = 3 , stride = 1 , padding = 'same')\n",
        "pooling1 = max_pool(f=2,mode = \"max\",stride=2)\n",
        "conv_layer3 = CNN(n_f = 64 , f = 3 , stride = 1 , padding = 'same')\n",
        "#conv_layer4 = CNN(n_f = 128 , f = 3 , stride = 1 , padding = 'same')\n",
        "pooling2 = max_pool(f=2,mode = \"max\",stride=2)\n",
        "conv_layer5 = CNN(n_f = 64 , f = 3 , stride = 1 , padding = 'same')\n",
        "# conv_layer6 = CNN(n_f = 64 , f = 3 , stride = 1 , padding = 'same')\n",
        "# conv_layer7 = CNN(n_f = 64 , f = 3 , stride = 1 , padding = 'same')\n",
        "# pooling3 = max_pool(f=2,mode = \"max\",stride=2)\n",
        "# conv_layer8 = CNN(n_f = 128 , f = 3 , stride = 1 , padding = 'same')\n",
        "# conv_layer9 = CNN(n_f = 128 , f = 3 , stride = 1 , padding = 'same')\n",
        "# conv_layer10 = CNN(n_f = 128 , f = 3 , stride = 1 , padding = 'same')\n",
        "# pooling4 = max_pool(f=2,mode = \"max\",stride=2)\n",
        "# conv_layer11 = CNN(n_f = 128 , f = 3 , stride = 1 , padding = 'same')\n",
        "# conv_layer12 = CNN(n_f = 128 , f = 3 , stride = 1 , padding = 'same')\n",
        "# conv_layer13 = CNN(n_f = 128 , f = 3 , stride = 1 , padding = 'same')\n",
        "pooling5 = max_pool(f=2,mode = \"max\",stride=2)\n",
        "neural0 = NeuralNetwork(input_size = 9216,layers = (256,128) ,output_size = 2)\n"
      ],
      "execution_count": null,
      "outputs": []
    },
    {
      "cell_type": "code",
      "metadata": {
        "id": "hGgqWNLioIyR",
        "colab_type": "code",
        "colab": {}
      },
      "source": [
        "def train(X,Y,epochs,lr1=0.001,logs=True):\n",
        "    training_loss = []\n",
        "    \n",
        "    classes = 2\n",
        "    Y_OHT = one_hot(Y,classes)\n",
        "    #print(Y_OHT.shape)\n",
        "\n",
        "    for ix in range(0,epochs,3):\n",
        "\n",
        "        x_i = X[ix*100:(ix+1)*100,:,:,:]\n",
        "        y_i = Y_OHT[ix*100:(ix+1)*100,:]\n",
        "        #print(x_i.shape,y_i.shape)\n",
        "\n",
        "        #print('---------------------------------------------------------------------------------------------------')\n",
        "        print(\"Forward Pass\")\n",
        "        c1 = conv_layer1.Forward_pass(x_i)\n",
        "        c1[c1<=0] = 0\n",
        "        #c2 = conv_layer2.Forward_pass(c1)\n",
        "        p1 = pooling1.Forward_pass(c1)\n",
        "        c3 = conv_layer3.Forward_pass(p1)\n",
        "        c3[c3<=0] = 0\n",
        "        #c4 = conv_layer4.Forward_pass(c3)\n",
        "        p2 = pooling2.Forward_pass(c3)\n",
        "        c5 = conv_layer5.Forward_pass(p2)\n",
        "        c5[c5<=0] = 0\n",
        "        # c6 = conv_layer6.Forward_pass(c5)\n",
        "        # c7 = conv_layer7.Forward_pass(c6)\n",
        "        # p3 = pooling3.Forward_pass(c7)\n",
        "        # c8 = conv_layer8.Forward_pass(p3)\n",
        "        # c9 = conv_layer9.Forward_pass(c8)\n",
        "        # c10 = conv_layer10.Forward_pass(c9)\n",
        "        # p4 = pooling4.Forward_pass(c10)\n",
        "        # c11 = conv_layer11.Forward_pass(p4)\n",
        "        # c12 = conv_layer12.Forward_pass(c11)\n",
        "        # c13 = conv_layer13.Forward_pass(c12)\n",
        "        p5 = pooling5.Forward_pass(c5)\n",
        "        r = np.reshape(p5,(100,-1))\n",
        "        #print('The Input after Flattening for MLP {}'.format(r.shape))\n",
        "  \n",
        "        Y_ = neural0.forward(r)\n",
        "\n",
        "        l = loss(y_i,Y_)\n",
        "        training_loss.append(l)\n",
        "\n",
        "        print('Backword Pass')\n",
        "        dn1 = neural0.backward(r,y_i,learning_rate=lr1)\n",
        "        #print(\"Input shape = {} Output shape = {}\".format(r.shape,dn1.shape))\n",
        "\n",
        "        dr = np.reshape(dn1,p5.shape)\n",
        "        dp5 = pooling5.Backward_pass(c5,dr)\n",
        "        dp5[dp5<=0] = 0\n",
        "        # dc13 = conv_layer13.Backward_pass(c12,dp5)\n",
        "        # dc12 = conv_layer13.Backward_pass(c11,dc13)\n",
        "        # dc11 = conv_layer13.Backward_pass(p4,dc12)\n",
        "        # dp4 = pooling4.Backward_pass(c10,dc11)\n",
        "        # dc10 = conv_layer10.Backward_pass(c9,dp4)\n",
        "        # dc9 = conv_layer9.Backward_pass(c8,dc10)\n",
        "        # dc8 = conv_layer8.Backward_pass(p3,dc9)\n",
        "        # dp3 = pooling3.Backward_pass(c7,dc8)\n",
        "        # dc7 = conv_layer7.Backward_pass(c6,dp3)\n",
        "        # dc6 = conv_layer6.Backward_pass(c5,dc7)\n",
        "        dc5 = conv_layer5.Backward_pass(p2,dp5,lr = lr1)\n",
        "        dp2 = pooling2.Backward_pass(c3,dc5)\n",
        "        dp2[dp2<=0] = 0\n",
        "        #dc4 = conv_layer4.Backward_pass(c3,dp2)\n",
        "        dc3 = conv_layer3.Backward_pass(p1,dp2,lr = lr1)\n",
        "        dp1 = pooling1.Backward_pass(c1,dc3)\n",
        "        dp1[dp1<=0] = 0\n",
        "        #dc2 = conv_layer2.Backward_pass(c1,dp1)\n",
        "        dc1 = conv_layer1.Backward_pass(x_i,dp1,lr = lr1)\n",
        "        \n",
        "        if(logs):\n",
        "            print(\"Epoch %d Loss %.4f\"%(ix,l))\n",
        "        \n",
        "        print('---------------------------------------------------------------------------------------------------')\n",
        "        \n",
        "            \n",
        "    \n",
        "    return training_loss"
      ],
      "execution_count": null,
      "outputs": []
    },
    {
      "cell_type": "code",
      "metadata": {
        "id": "ttDtaVQvu52l",
        "colab_type": "code",
        "colab": {}
      },
      "source": [
        "def predict(xval,yval,epochs,logs=True):\n",
        "    z = 0\n",
        "    \n",
        "    # classes = 2\n",
        "    # Y_OHT = one_hot(Y,classes)\n",
        "    #print(Y_OHT.shape)\n",
        "\n",
        "    for ix in range(0,epochs):\n",
        "\n",
        "        e = 0\n",
        "        x_i = xval[ix*100:(ix+1)*100,:,:,:]\n",
        "        y_i = yval[ix*100:(ix+1)*100,:]\n",
        "        #print(x_i.shape,y_i.shape)\n",
        "\n",
        "        #print('---------------------------------------------------------------------------------------------------')\n",
        "        #print(\"Forward Pass\")\n",
        "        c1 = conv_layer1.Forward_pass(x_i)\n",
        "        c1[c1<=0] = 0\n",
        "        #c2 = conv_layer2.Forward_pass(c1)\n",
        "        p1 = pooling1.Forward_pass(c1)\n",
        "        c3 = conv_layer3.Forward_pass(p1)\n",
        "        c3[c3<=0] = 0\n",
        "        #c4 = conv_layer4.Forward_pass(c3)\n",
        "        p2 = pooling2.Forward_pass(c3)\n",
        "        c5 = conv_layer5.Forward_pass(p2)\n",
        "        c5[c5<=0] = 0\n",
        "        # c6 = conv_layer6.Forward_pass(c5)\n",
        "        # c7 = conv_layer7.Forward_pass(c6)\n",
        "        # p3 = pooling3.Forward_pass(c7)\n",
        "        # c8 = conv_layer8.Forward_pass(p3)\n",
        "        # c9 = conv_layer9.Forward_pass(c8)\n",
        "        # c10 = conv_layer10.Forward_pass(c9)\n",
        "        # p4 = pooling4.Forward_pass(c10)\n",
        "        # c11 = conv_layer11.Forward_pass(p4)\n",
        "        # c12 = conv_layer12.Forward_pass(c11)\n",
        "        # c13 = conv_layer13.Forward_pass(c12)\n",
        "        p5 = pooling5.Forward_pass(c5)\n",
        "        r = np.reshape(p5,(100,-1))\n",
        "        #print('The Input after Flattening for MLP {}'.format(r.shape))\n",
        "\n",
        "        Y_ = neural0.predict(r)\n",
        "        Y_ = np.reshape(Y_,(100,1))\n",
        "        #print(Y_.shape,y_i.shape)\n",
        "        e = np.sum(Y_ == y_i)\n",
        "        z = z + e\n",
        "        #print(e/100)\n",
        "        #print(z)\n",
        "\n",
        "    return z/5000"
      ],
      "execution_count": null,
      "outputs": []
    },
    {
      "cell_type": "code",
      "metadata": {
        "id": "t1QgITR_yxyq",
        "colab_type": "code",
        "colab": {
          "base_uri": "https://localhost:8080/",
          "height": 374
        },
        "outputId": "16bfda1f-9cd3-44c0-a2d8-5b2a6b5bb6f7"
      },
      "source": [
        "s = predict(X,Y,3)"
      ],
      "execution_count": null,
      "outputs": [
        {
          "output_type": "stream",
          "text": [
            "Input shape = (100, 3, 100, 100) Filter shape = (32, 3, 3, 3) Output shape = (100, 32, 100, 100)\n",
            "Input shape = (100, 32, 100, 100) Output shape = (100, 32, 50, 50)\n"
          ],
          "name": "stdout"
        },
        {
          "output_type": "error",
          "ename": "KeyboardInterrupt",
          "evalue": "ignored",
          "traceback": [
            "\u001b[0;31m---------------------------------------------------------------------------\u001b[0m",
            "\u001b[0;31mKeyboardInterrupt\u001b[0m                         Traceback (most recent call last)",
            "\u001b[0;32m<ipython-input-15-e63320a3e019>\u001b[0m in \u001b[0;36m<module>\u001b[0;34m()\u001b[0m\n\u001b[0;32m----> 1\u001b[0;31m \u001b[0ms\u001b[0m \u001b[0;34m=\u001b[0m \u001b[0mpredict\u001b[0m\u001b[0;34m(\u001b[0m\u001b[0mX\u001b[0m\u001b[0;34m,\u001b[0m\u001b[0mY\u001b[0m\u001b[0;34m,\u001b[0m\u001b[0;36m3\u001b[0m\u001b[0;34m)\u001b[0m\u001b[0;34m\u001b[0m\u001b[0;34m\u001b[0m\u001b[0m\n\u001b[0m",
            "\u001b[0;32m<ipython-input-14-d5d41ad4f3d7>\u001b[0m in \u001b[0;36mpredict\u001b[0;34m(xval, yval, epochs, logs)\u001b[0m\n\u001b[1;32m     19\u001b[0m         \u001b[0;31m#c2 = conv_layer2.Forward_pass(c1)\u001b[0m\u001b[0;34m\u001b[0m\u001b[0;34m\u001b[0m\u001b[0;34m\u001b[0m\u001b[0m\n\u001b[1;32m     20\u001b[0m         \u001b[0mp1\u001b[0m \u001b[0;34m=\u001b[0m \u001b[0mpooling1\u001b[0m\u001b[0;34m.\u001b[0m\u001b[0mForward_pass\u001b[0m\u001b[0;34m(\u001b[0m\u001b[0mc1\u001b[0m\u001b[0;34m)\u001b[0m\u001b[0;34m\u001b[0m\u001b[0;34m\u001b[0m\u001b[0m\n\u001b[0;32m---> 21\u001b[0;31m         \u001b[0mc3\u001b[0m \u001b[0;34m=\u001b[0m \u001b[0mconv_layer3\u001b[0m\u001b[0;34m.\u001b[0m\u001b[0mForward_pass\u001b[0m\u001b[0;34m(\u001b[0m\u001b[0mp1\u001b[0m\u001b[0;34m)\u001b[0m\u001b[0;34m\u001b[0m\u001b[0;34m\u001b[0m\u001b[0m\n\u001b[0m\u001b[1;32m     22\u001b[0m         \u001b[0mc3\u001b[0m\u001b[0;34m[\u001b[0m\u001b[0mc3\u001b[0m\u001b[0;34m<=\u001b[0m\u001b[0;36m0\u001b[0m\u001b[0;34m]\u001b[0m \u001b[0;34m=\u001b[0m \u001b[0;36m0\u001b[0m\u001b[0;34m\u001b[0m\u001b[0;34m\u001b[0m\u001b[0m\n\u001b[1;32m     23\u001b[0m         \u001b[0;31m#c4 = conv_layer4.Forward_pass(c3)\u001b[0m\u001b[0;34m\u001b[0m\u001b[0;34m\u001b[0m\u001b[0;34m\u001b[0m\u001b[0m\n",
            "\u001b[0;32m/content/CNN.py\u001b[0m in \u001b[0;36mForward_pass\u001b[0;34m(self, input_X)\u001b[0m\n\u001b[1;32m     66\u001b[0m                         \u001b[0mimg_\u001b[0m \u001b[0;34m=\u001b[0m \u001b[0mimg\u001b[0m\u001b[0;34m[\u001b[0m\u001b[0;34m:\u001b[0m\u001b[0;34m,\u001b[0m\u001b[0;34m(\u001b[0m\u001b[0mheight\u001b[0m\u001b[0;34m*\u001b[0m\u001b[0mstride\u001b[0m\u001b[0;34m)\u001b[0m\u001b[0;34m:\u001b[0m\u001b[0;34m(\u001b[0m\u001b[0mheight\u001b[0m\u001b[0;34m*\u001b[0m\u001b[0mstride\u001b[0m\u001b[0;34m)\u001b[0m\u001b[0;34m+\u001b[0m\u001b[0mf\u001b[0m\u001b[0;34m,\u001b[0m\u001b[0;34m(\u001b[0m\u001b[0mwidth\u001b[0m\u001b[0;34m*\u001b[0m\u001b[0mstride\u001b[0m\u001b[0;34m)\u001b[0m\u001b[0;34m:\u001b[0m\u001b[0;34m(\u001b[0m\u001b[0mwidth\u001b[0m\u001b[0;34m*\u001b[0m\u001b[0mstride\u001b[0m\u001b[0;34m)\u001b[0m\u001b[0;34m+\u001b[0m\u001b[0mf\u001b[0m\u001b[0;34m]\u001b[0m\u001b[0;34m\u001b[0m\u001b[0;34m\u001b[0m\u001b[0m\n\u001b[1;32m     67\u001b[0m \u001b[0;34m\u001b[0m\u001b[0m\n\u001b[0;32m---> 68\u001b[0;31m                         \u001b[0moutput_X\u001b[0m\u001b[0;34m[\u001b[0m\u001b[0mi\u001b[0m\u001b[0;34m,\u001b[0m\u001b[0mfilter_no\u001b[0m\u001b[0;34m,\u001b[0m\u001b[0mheight\u001b[0m\u001b[0;34m,\u001b[0m\u001b[0mwidth\u001b[0m\u001b[0;34m]\u001b[0m \u001b[0;34m=\u001b[0m \u001b[0mnp\u001b[0m\u001b[0;34m.\u001b[0m\u001b[0msum\u001b[0m\u001b[0;34m(\u001b[0m\u001b[0mnp\u001b[0m\u001b[0;34m.\u001b[0m\u001b[0mmultiply\u001b[0m\u001b[0;34m(\u001b[0m\u001b[0mimg_\u001b[0m\u001b[0;34m,\u001b[0m\u001b[0mc_filt\u001b[0m\u001b[0;34m)\u001b[0m\u001b[0;34m)\u001b[0m \u001b[0;34m+\u001b[0m \u001b[0mfloat\u001b[0m\u001b[0;34m(\u001b[0m\u001b[0mc_b\u001b[0m\u001b[0;34m)\u001b[0m\u001b[0;34m\u001b[0m\u001b[0;34m\u001b[0m\u001b[0m\n\u001b[0m\u001b[1;32m     69\u001b[0m \u001b[0;34m\u001b[0m\u001b[0m\n\u001b[1;32m     70\u001b[0m         \u001b[0;32mif\u001b[0m\u001b[0;34m(\u001b[0m\u001b[0mep\u001b[0m\u001b[0;34m==\u001b[0m\u001b[0;36m0\u001b[0m\u001b[0;34m)\u001b[0m\u001b[0;34m:\u001b[0m \u001b[0mprint\u001b[0m\u001b[0;34m(\u001b[0m\u001b[0;34m\"Input shape = {} Filter shape = {} Output shape = {}\"\u001b[0m\u001b[0;34m.\u001b[0m\u001b[0mformat\u001b[0m\u001b[0;34m(\u001b[0m\u001b[0;34m(\u001b[0m\u001b[0mm\u001b[0m\u001b[0;34m,\u001b[0m\u001b[0mc\u001b[0m\u001b[0;34m,\u001b[0m\u001b[0mh\u001b[0m\u001b[0;34m,\u001b[0m\u001b[0mw\u001b[0m\u001b[0;34m)\u001b[0m\u001b[0;34m,\u001b[0m\u001b[0mfilt\u001b[0m\u001b[0;34m.\u001b[0m\u001b[0mshape\u001b[0m\u001b[0;34m,\u001b[0m\u001b[0moutput_X\u001b[0m\u001b[0;34m.\u001b[0m\u001b[0mshape\u001b[0m\u001b[0;34m)\u001b[0m\u001b[0;34m)\u001b[0m\u001b[0;34m\u001b[0m\u001b[0;34m\u001b[0m\u001b[0m\n",
            "\u001b[0;32m<__array_function__ internals>\u001b[0m in \u001b[0;36msum\u001b[0;34m(*args, **kwargs)\u001b[0m\n",
            "\u001b[0;32m/usr/local/lib/python3.6/dist-packages/numpy/core/fromnumeric.py\u001b[0m in \u001b[0;36msum\u001b[0;34m(a, axis, dtype, out, keepdims, initial, where)\u001b[0m\n\u001b[1;32m   2227\u001b[0m \u001b[0;34m\u001b[0m\u001b[0m\n\u001b[1;32m   2228\u001b[0m     return _wrapreduction(a, np.add, 'sum', axis, dtype, out, keepdims=keepdims,\n\u001b[0;32m-> 2229\u001b[0;31m                           initial=initial, where=where)\n\u001b[0m\u001b[1;32m   2230\u001b[0m \u001b[0;34m\u001b[0m\u001b[0m\n\u001b[1;32m   2231\u001b[0m \u001b[0;34m\u001b[0m\u001b[0m\n",
            "\u001b[0;32m/usr/local/lib/python3.6/dist-packages/numpy/core/fromnumeric.py\u001b[0m in \u001b[0;36m_wrapreduction\u001b[0;34m(obj, ufunc, method, axis, dtype, out, **kwargs)\u001b[0m\n\u001b[1;32m     88\u001b[0m                 \u001b[0;32mreturn\u001b[0m \u001b[0mreduction\u001b[0m\u001b[0;34m(\u001b[0m\u001b[0maxis\u001b[0m\u001b[0;34m=\u001b[0m\u001b[0maxis\u001b[0m\u001b[0;34m,\u001b[0m \u001b[0mout\u001b[0m\u001b[0;34m=\u001b[0m\u001b[0mout\u001b[0m\u001b[0;34m,\u001b[0m \u001b[0;34m**\u001b[0m\u001b[0mpasskwargs\u001b[0m\u001b[0;34m)\u001b[0m\u001b[0;34m\u001b[0m\u001b[0;34m\u001b[0m\u001b[0m\n\u001b[1;32m     89\u001b[0m \u001b[0;34m\u001b[0m\u001b[0m\n\u001b[0;32m---> 90\u001b[0;31m     \u001b[0;32mreturn\u001b[0m \u001b[0mufunc\u001b[0m\u001b[0;34m.\u001b[0m\u001b[0mreduce\u001b[0m\u001b[0;34m(\u001b[0m\u001b[0mobj\u001b[0m\u001b[0;34m,\u001b[0m \u001b[0maxis\u001b[0m\u001b[0;34m,\u001b[0m \u001b[0mdtype\u001b[0m\u001b[0;34m,\u001b[0m \u001b[0mout\u001b[0m\u001b[0;34m,\u001b[0m \u001b[0;34m**\u001b[0m\u001b[0mpasskwargs\u001b[0m\u001b[0;34m)\u001b[0m\u001b[0;34m\u001b[0m\u001b[0;34m\u001b[0m\u001b[0m\n\u001b[0m\u001b[1;32m     91\u001b[0m \u001b[0;34m\u001b[0m\u001b[0m\n\u001b[1;32m     92\u001b[0m \u001b[0;34m\u001b[0m\u001b[0m\n",
            "\u001b[0;31mKeyboardInterrupt\u001b[0m: "
          ]
        }
      ]
    },
    {
      "cell_type": "code",
      "metadata": {
        "id": "6_wlFVguKLah",
        "colab_type": "code",
        "colab": {
          "base_uri": "https://localhost:8080/",
          "height": 34
        },
        "outputId": "573e2361-8ad6-4086-e830-fa17604b3666"
      },
      "source": [
        "print(s)"
      ],
      "execution_count": null,
      "outputs": [
        {
          "output_type": "stream",
          "text": [
            "0.4533333333333333\n"
          ],
          "name": "stdout"
        }
      ]
    },
    {
      "cell_type": "code",
      "metadata": {
        "id": "sQwoL9pZJyMO",
        "colab_type": "code",
        "colab": {
          "base_uri": "https://localhost:8080/",
          "height": 1000
        },
        "outputId": "8582883e-b029-45d6-8998-21d2c74261c0"
      },
      "source": [
        "l_o_s_s = train(X,Y,50)"
      ],
      "execution_count": null,
      "outputs": [
        {
          "output_type": "stream",
          "text": [
            "Forward Pass\n",
            "Backword Pass\n",
            "Epoch 0 Loss 5.1049\n",
            "---------------------------------------------------------------------------------------------------\n",
            "Forward Pass\n",
            "Backword Pass\n",
            "Epoch 1 Loss 1.3689\n",
            "---------------------------------------------------------------------------------------------------\n",
            "Forward Pass\n",
            "Backword Pass\n",
            "Epoch 2 Loss 10.3074\n",
            "---------------------------------------------------------------------------------------------------\n",
            "Forward Pass\n",
            "Backword Pass\n",
            "Epoch 3 Loss 1.3809\n",
            "---------------------------------------------------------------------------------------------------\n",
            "Forward Pass\n",
            "Backword Pass\n",
            "Epoch 4 Loss 2.6313\n",
            "---------------------------------------------------------------------------------------------------\n",
            "Forward Pass\n",
            "Backword Pass\n",
            "Epoch 5 Loss 36.0484\n",
            "---------------------------------------------------------------------------------------------------\n",
            "Forward Pass\n",
            "Backword Pass\n",
            "Epoch 6 Loss 21.1986\n",
            "---------------------------------------------------------------------------------------------------\n",
            "Forward Pass\n",
            "Backword Pass\n",
            "Epoch 7 Loss 9.8587\n",
            "---------------------------------------------------------------------------------------------------\n",
            "Forward Pass\n",
            "Backword Pass\n",
            "Epoch 8 Loss 2.2803\n",
            "---------------------------------------------------------------------------------------------------\n",
            "Forward Pass\n",
            "Backword Pass\n",
            "Epoch 9 Loss 4.2437\n",
            "---------------------------------------------------------------------------------------------------\n",
            "Forward Pass\n",
            "Backword Pass\n",
            "Epoch 10 Loss 2.0372\n",
            "---------------------------------------------------------------------------------------------------\n",
            "Forward Pass\n",
            "Backword Pass\n",
            "Epoch 11 Loss 4.2203\n",
            "---------------------------------------------------------------------------------------------------\n",
            "Forward Pass\n",
            "Backword Pass\n",
            "Epoch 12 Loss 2.2496\n",
            "---------------------------------------------------------------------------------------------------\n",
            "Forward Pass\n",
            "Backword Pass\n",
            "Epoch 13 Loss 4.0768\n",
            "---------------------------------------------------------------------------------------------------\n",
            "Forward Pass\n",
            "Backword Pass\n",
            "Epoch 14 Loss 2.3882\n",
            "---------------------------------------------------------------------------------------------------\n",
            "Forward Pass\n",
            "Backword Pass\n",
            "Epoch 15 Loss 3.9673\n",
            "---------------------------------------------------------------------------------------------------\n",
            "Forward Pass\n",
            "Backword Pass\n",
            "Epoch 16 Loss 2.4919\n",
            "---------------------------------------------------------------------------------------------------\n",
            "Forward Pass\n",
            "Backword Pass\n",
            "Epoch 17 Loss 3.8804\n",
            "---------------------------------------------------------------------------------------------------\n",
            "Forward Pass\n",
            "Backword Pass\n",
            "Epoch 18 Loss 2.5747\n",
            "---------------------------------------------------------------------------------------------------\n",
            "Forward Pass\n",
            "Backword Pass\n",
            "Epoch 19 Loss 3.8086\n",
            "---------------------------------------------------------------------------------------------------\n",
            "Forward Pass\n",
            "Backword Pass\n",
            "Epoch 20 Loss 2.6435\n",
            "---------------------------------------------------------------------------------------------------\n",
            "Forward Pass\n",
            "Backword Pass\n",
            "Epoch 21 Loss 3.7478\n",
            "---------------------------------------------------------------------------------------------------\n",
            "Forward Pass\n",
            "Backword Pass\n",
            "Epoch 22 Loss 2.7020\n",
            "---------------------------------------------------------------------------------------------------\n",
            "Forward Pass\n",
            "Backword Pass\n",
            "Epoch 23 Loss 3.6954\n",
            "---------------------------------------------------------------------------------------------------\n",
            "Forward Pass\n",
            "Backword Pass\n",
            "Epoch 24 Loss 2.7525\n",
            "---------------------------------------------------------------------------------------------------\n",
            "Forward Pass\n",
            "Backword Pass\n",
            "Epoch 25 Loss 3.6497\n",
            "---------------------------------------------------------------------------------------------------\n",
            "Forward Pass\n",
            "Backword Pass\n",
            "Epoch 26 Loss 2.7966\n",
            "---------------------------------------------------------------------------------------------------\n",
            "Forward Pass\n",
            "Backword Pass\n",
            "Epoch 27 Loss 3.6095\n",
            "---------------------------------------------------------------------------------------------------\n",
            "Forward Pass\n",
            "Backword Pass\n",
            "Epoch 28 Loss 2.8355\n",
            "---------------------------------------------------------------------------------------------------\n",
            "Forward Pass\n",
            "Backword Pass\n",
            "Epoch 29 Loss 3.5738\n",
            "---------------------------------------------------------------------------------------------------\n",
            "Forward Pass\n",
            "Backword Pass\n",
            "Epoch 30 Loss 2.8701\n",
            "---------------------------------------------------------------------------------------------------\n",
            "Forward Pass\n",
            "Backword Pass\n",
            "Epoch 31 Loss 3.5419\n",
            "---------------------------------------------------------------------------------------------------\n",
            "Forward Pass\n",
            "Backword Pass\n",
            "Epoch 32 Loss 2.9010\n",
            "---------------------------------------------------------------------------------------------------\n",
            "Forward Pass\n",
            "Backword Pass\n",
            "Epoch 33 Loss 3.5133\n",
            "---------------------------------------------------------------------------------------------------\n",
            "Forward Pass\n",
            "Backword Pass\n",
            "Epoch 34 Loss 2.9288\n",
            "---------------------------------------------------------------------------------------------------\n",
            "Forward Pass\n",
            "Backword Pass\n",
            "Epoch 35 Loss 3.4876\n",
            "---------------------------------------------------------------------------------------------------\n",
            "Forward Pass\n",
            "Backword Pass\n",
            "Epoch 36 Loss 2.9538\n",
            "---------------------------------------------------------------------------------------------------\n",
            "Forward Pass\n",
            "Backword Pass\n",
            "Epoch 37 Loss 3.4643\n",
            "---------------------------------------------------------------------------------------------------\n",
            "Forward Pass\n",
            "Backword Pass\n",
            "Epoch 38 Loss 2.9764\n",
            "---------------------------------------------------------------------------------------------------\n",
            "Forward Pass\n",
            "Backword Pass\n",
            "Epoch 39 Loss 3.4432\n",
            "---------------------------------------------------------------------------------------------------\n",
            "Forward Pass\n",
            "Backword Pass\n",
            "Epoch 40 Loss 2.9969\n",
            "---------------------------------------------------------------------------------------------------\n",
            "Forward Pass\n",
            "Backword Pass\n",
            "Epoch 41 Loss 3.4240\n",
            "---------------------------------------------------------------------------------------------------\n",
            "Forward Pass\n",
            "Backword Pass\n",
            "Epoch 42 Loss 3.0155\n",
            "---------------------------------------------------------------------------------------------------\n",
            "Forward Pass\n",
            "Backword Pass\n",
            "Epoch 43 Loss 3.4066\n",
            "---------------------------------------------------------------------------------------------------\n",
            "Forward Pass\n",
            "Backword Pass\n",
            "Epoch 44 Loss 3.0324\n",
            "---------------------------------------------------------------------------------------------------\n",
            "Forward Pass\n",
            "Backword Pass\n",
            "Epoch 45 Loss 3.3907\n",
            "---------------------------------------------------------------------------------------------------\n",
            "Forward Pass\n",
            "Backword Pass\n",
            "Epoch 46 Loss 3.0478\n",
            "---------------------------------------------------------------------------------------------------\n",
            "Forward Pass\n",
            "Backword Pass\n",
            "Epoch 47 Loss 3.3762\n",
            "---------------------------------------------------------------------------------------------------\n",
            "Forward Pass\n",
            "Backword Pass\n",
            "Epoch 48 Loss 3.0619\n",
            "---------------------------------------------------------------------------------------------------\n",
            "Forward Pass\n",
            "Backword Pass\n",
            "Epoch 49 Loss 3.3629\n",
            "---------------------------------------------------------------------------------------------------\n"
          ],
          "name": "stdout"
        }
      ]
    },
    {
      "cell_type": "code",
      "metadata": {
        "id": "j4W425DrbCnl",
        "colab_type": "code",
        "colab": {
          "base_uri": "https://localhost:8080/",
          "height": 119
        },
        "outputId": "8c0fde43-862e-4e41-fe20-e59abf7d0e96"
      },
      "source": [
        "s = predict(X,Y,50)\n",
        "print(s)"
      ],
      "execution_count": null,
      "outputs": [
        {
          "output_type": "stream",
          "text": [
            "Input shape = (100, 32, 32, 3) Filter shape = (3, 3, 3, 32) Output shape = (100, 32, 32, 32)\n",
            "Input shape = (100, 32, 32, 32) Output shape = (100, 16, 16, 32)\n",
            "Input shape = (100, 16, 16, 32) Filter shape = (3, 3, 32, 64) Output shape = (100, 16, 16, 64)\n",
            "Input shape = (100, 16, 16, 64) Output shape = (100, 8, 8, 64)\n",
            "Input shape = (100, 8, 8, 64) Filter shape = (3, 3, 64, 64) Output shape = (100, 8, 8, 64)\n",
            "Input shape = (100, 8, 8, 64) Output shape = (100, 4, 4, 64)\n"
          ],
          "name": "stdout"
        }
      ]
    },
    {
      "cell_type": "code",
      "metadata": {
        "id": "HY0pKkwkKPwo",
        "colab_type": "code",
        "colab": {}
      },
      "source": [
        "s1 = predict(x_val1,y_val1,50)\n",
        "print(s1)"
      ],
      "execution_count": null,
      "outputs": []
    },
    {
      "cell_type": "code",
      "metadata": {
        "id": "QMQqDgsMKaUa",
        "colab_type": "code",
        "colab": {
          "base_uri": "https://localhost:8080/",
          "height": 279
        },
        "outputId": "0afb10bf-3610-49b3-894e-080e1181b920"
      },
      "source": [
        "import matplotlib.pyplot as plt\n",
        "plt.plot(l_o_s_s)\n",
        "plt.xlabel(\"Epoch\")\n",
        "plt.ylabel(\"Loss\")\n",
        "plt.show()"
      ],
      "execution_count": null,
      "outputs": [
        {
          "output_type": "display_data",
          "data": {
            "image/png": "[encoded data removed]",
            "text/plain": [
              "<Figure size 432x288 with 1 Axes>"
            ]
          },
          "metadata": {
            "tags": [],
            "needs_background": "light"
          }
        }
      ]
    },
    {
      "cell_type": "code",
      "metadata": {
        "id": "eO0Bt-yGodef",
        "colab_type": "code",
        "colab": {}
      },
      "source": [
        "z1,z2 = x_val[15000:20000],y_val[15000:20000]"
      ],
      "execution_count": null,
      "outputs": []
    },
    {
      "cell_type": "code",
      "metadata": {
        "id": "5p8RELQZovj3",
        "colab_type": "code",
        "colab": {
          "base_uri": "https://localhost:8080/",
          "height": 34
        },
        "outputId": "61371657-4d70-4d9e-caf1-65fff489cad1"
      },
      "source": [
        "z1.shape,z2.shape"
      ],
      "execution_count": null,
      "outputs": [
        {
          "output_type": "execute_result",
          "data": {
            "text/plain": [
              "((5000, 32, 32, 3), (5000, 1))"
            ]
          },
          "metadata": {
            "tags": []
          },
          "execution_count": 43
        }
      ]
    },
    {
      "cell_type": "code",
      "metadata": {
        "id": "NU1dXaAvH_Lp",
        "colab_type": "code",
        "colab": {
          "base_uri": "https://localhost:8080/",
          "height": 833
        },
        "outputId": "0f2b14ee-39fd-457c-c5dc-ff39447f80b3"
      },
      "source": [
        "l_o_s_s1 = train(z1,z2,50)"
      ],
      "execution_count": null,
      "outputs": [
        {
          "output_type": "stream",
          "text": [
            "Forward Pass\n",
            "Backword Pass\n",
            "Epoch 0 Loss 3.1883\n",
            "---------------------------------------------------------------------------------------------------\n",
            "Forward Pass\n",
            "Backword Pass\n",
            "Epoch 3 Loss 3.2428\n",
            "---------------------------------------------------------------------------------------------------\n",
            "Forward Pass\n",
            "Backword Pass\n",
            "Epoch 6 Loss 3.1906\n",
            "---------------------------------------------------------------------------------------------------\n",
            "Forward Pass\n",
            "Backword Pass\n",
            "Epoch 9 Loss 3.2407\n",
            "---------------------------------------------------------------------------------------------------\n",
            "Forward Pass\n",
            "Backword Pass\n",
            "Epoch 12 Loss 3.1927\n",
            "---------------------------------------------------------------------------------------------------\n",
            "Forward Pass\n",
            "Backword Pass\n",
            "Epoch 15 Loss 3.2387\n",
            "---------------------------------------------------------------------------------------------------\n",
            "Forward Pass\n",
            "Backword Pass\n",
            "Epoch 18 Loss 3.1946\n",
            "---------------------------------------------------------------------------------------------------\n",
            "Forward Pass\n"
          ],
          "name": "stdout"
        },
        {
          "output_type": "error",
          "ename": "KeyboardInterrupt",
          "evalue": "ignored",
          "traceback": [
            "\u001b[0;31m---------------------------------------------------------------------------\u001b[0m",
            "\u001b[0;31mKeyboardInterrupt\u001b[0m                         Traceback (most recent call last)",
            "\u001b[0;32m<ipython-input-44-07202557f1d5>\u001b[0m in \u001b[0;36m<module>\u001b[0;34m()\u001b[0m\n\u001b[0;32m----> 1\u001b[0;31m \u001b[0ml_o_s_s1\u001b[0m \u001b[0;34m=\u001b[0m \u001b[0mtrain\u001b[0m\u001b[0;34m(\u001b[0m\u001b[0mz1\u001b[0m\u001b[0;34m,\u001b[0m\u001b[0mz2\u001b[0m\u001b[0;34m,\u001b[0m\u001b[0;36m50\u001b[0m\u001b[0;34m)\u001b[0m\u001b[0;34m\u001b[0m\u001b[0;34m\u001b[0m\u001b[0m\n\u001b[0m",
            "\u001b[0;32m<ipython-input-27-9c3f380456f2>\u001b[0m in \u001b[0;36mtrain\u001b[0;34m(X, Y, epochs, lr1, logs)\u001b[0m\n\u001b[1;32m     18\u001b[0m         \u001b[0;31m#c2 = conv_layer2.Forward_pass(c1)\u001b[0m\u001b[0;34m\u001b[0m\u001b[0;34m\u001b[0m\u001b[0;34m\u001b[0m\u001b[0m\n\u001b[1;32m     19\u001b[0m         \u001b[0mp1\u001b[0m \u001b[0;34m=\u001b[0m \u001b[0mpooling1\u001b[0m\u001b[0;34m.\u001b[0m\u001b[0mForward_pass\u001b[0m\u001b[0;34m(\u001b[0m\u001b[0mc1\u001b[0m\u001b[0;34m)\u001b[0m\u001b[0;34m\u001b[0m\u001b[0;34m\u001b[0m\u001b[0m\n\u001b[0;32m---> 20\u001b[0;31m         \u001b[0mc3\u001b[0m \u001b[0;34m=\u001b[0m \u001b[0mconv_layer3\u001b[0m\u001b[0;34m.\u001b[0m\u001b[0mForward_pass\u001b[0m\u001b[0;34m(\u001b[0m\u001b[0mp1\u001b[0m\u001b[0;34m)\u001b[0m\u001b[0;34m\u001b[0m\u001b[0;34m\u001b[0m\u001b[0m\n\u001b[0m\u001b[1;32m     21\u001b[0m         \u001b[0mc3\u001b[0m\u001b[0;34m[\u001b[0m\u001b[0mc3\u001b[0m\u001b[0;34m<=\u001b[0m\u001b[0;36m0\u001b[0m\u001b[0;34m]\u001b[0m \u001b[0;34m=\u001b[0m \u001b[0;36m0\u001b[0m\u001b[0;34m\u001b[0m\u001b[0;34m\u001b[0m\u001b[0m\n\u001b[1;32m     22\u001b[0m         \u001b[0;31m#c4 = conv_layer4.Forward_pass(c3)\u001b[0m\u001b[0;34m\u001b[0m\u001b[0;34m\u001b[0m\u001b[0;34m\u001b[0m\u001b[0m\n",
            "\u001b[0;32m/content/CNN.py\u001b[0m in \u001b[0;36mForward_pass\u001b[0;34m(self, input_X)\u001b[0m\n\u001b[1;32m     63\u001b[0m                         \u001b[0mc_filt\u001b[0m \u001b[0;34m=\u001b[0m \u001b[0mfilt\u001b[0m\u001b[0;34m[\u001b[0m\u001b[0;34m:\u001b[0m\u001b[0;34m,\u001b[0m\u001b[0;34m:\u001b[0m\u001b[0;34m,\u001b[0m\u001b[0;34m:\u001b[0m\u001b[0;34m,\u001b[0m\u001b[0mfilter_no\u001b[0m\u001b[0;34m]\u001b[0m\u001b[0;34m\u001b[0m\u001b[0;34m\u001b[0m\u001b[0m\n\u001b[1;32m     64\u001b[0m                         \u001b[0mc_b\u001b[0m \u001b[0;34m=\u001b[0m \u001b[0mb\u001b[0m\u001b[0;34m[\u001b[0m\u001b[0;34m:\u001b[0m\u001b[0;34m,\u001b[0m\u001b[0;34m:\u001b[0m\u001b[0;34m,\u001b[0m\u001b[0;34m:\u001b[0m\u001b[0;34m,\u001b[0m\u001b[0mfilter_no\u001b[0m\u001b[0;34m]\u001b[0m\u001b[0;34m\u001b[0m\u001b[0;34m\u001b[0m\u001b[0m\n\u001b[0;32m---> 65\u001b[0;31m                         \u001b[0moutput_X\u001b[0m\u001b[0;34m[\u001b[0m\u001b[0mi\u001b[0m\u001b[0;34m,\u001b[0m\u001b[0mheight\u001b[0m\u001b[0;34m,\u001b[0m\u001b[0mwidth\u001b[0m\u001b[0;34m,\u001b[0m\u001b[0mfilter_no\u001b[0m\u001b[0;34m]\u001b[0m \u001b[0;34m=\u001b[0m \u001b[0mnp\u001b[0m\u001b[0;34m.\u001b[0m\u001b[0msum\u001b[0m\u001b[0;34m(\u001b[0m\u001b[0mnp\u001b[0m\u001b[0;34m.\u001b[0m\u001b[0mmultiply\u001b[0m\u001b[0;34m(\u001b[0m\u001b[0mimg_\u001b[0m\u001b[0;34m,\u001b[0m\u001b[0mc_filt\u001b[0m\u001b[0;34m)\u001b[0m\u001b[0;34m)\u001b[0m \u001b[0;34m+\u001b[0m \u001b[0mfloat\u001b[0m\u001b[0;34m(\u001b[0m\u001b[0mc_b\u001b[0m\u001b[0;34m)\u001b[0m\u001b[0;34m\u001b[0m\u001b[0;34m\u001b[0m\u001b[0m\n\u001b[0m\u001b[1;32m     66\u001b[0m \u001b[0;34m\u001b[0m\u001b[0m\n\u001b[1;32m     67\u001b[0m         \u001b[0;32mif\u001b[0m\u001b[0;34m(\u001b[0m\u001b[0mep\u001b[0m\u001b[0;34m==\u001b[0m\u001b[0;36m0\u001b[0m\u001b[0;34m)\u001b[0m\u001b[0;34m:\u001b[0m \u001b[0mprint\u001b[0m\u001b[0;34m(\u001b[0m\u001b[0;34m\"Input shape = {} Filter shape = {} Output shape = {}\"\u001b[0m\u001b[0;34m.\u001b[0m\u001b[0mformat\u001b[0m\u001b[0;34m(\u001b[0m\u001b[0;34m(\u001b[0m\u001b[0mm\u001b[0m\u001b[0;34m,\u001b[0m\u001b[0mh\u001b[0m\u001b[0;34m,\u001b[0m\u001b[0mw\u001b[0m\u001b[0;34m,\u001b[0m\u001b[0mc\u001b[0m\u001b[0;34m)\u001b[0m\u001b[0;34m,\u001b[0m\u001b[0mfilt\u001b[0m\u001b[0;34m.\u001b[0m\u001b[0mshape\u001b[0m\u001b[0;34m,\u001b[0m\u001b[0moutput_X\u001b[0m\u001b[0;34m.\u001b[0m\u001b[0mshape\u001b[0m\u001b[0;34m)\u001b[0m\u001b[0;34m)\u001b[0m\u001b[0;34m\u001b[0m\u001b[0;34m\u001b[0m\u001b[0m\n",
            "\u001b[0;32m<__array_function__ internals>\u001b[0m in \u001b[0;36msum\u001b[0;34m(*args, **kwargs)\u001b[0m\n",
            "\u001b[0;32m/usr/local/lib/python3.6/dist-packages/numpy/core/fromnumeric.py\u001b[0m in \u001b[0;36msum\u001b[0;34m(a, axis, dtype, out, keepdims, initial, where)\u001b[0m\n\u001b[1;32m   2227\u001b[0m \u001b[0;34m\u001b[0m\u001b[0m\n\u001b[1;32m   2228\u001b[0m     return _wrapreduction(a, np.add, 'sum', axis, dtype, out, keepdims=keepdims,\n\u001b[0;32m-> 2229\u001b[0;31m                           initial=initial, where=where)\n\u001b[0m\u001b[1;32m   2230\u001b[0m \u001b[0;34m\u001b[0m\u001b[0m\n\u001b[1;32m   2231\u001b[0m \u001b[0;34m\u001b[0m\u001b[0m\n",
            "\u001b[0;32m/usr/local/lib/python3.6/dist-packages/numpy/core/fromnumeric.py\u001b[0m in \u001b[0;36m_wrapreduction\u001b[0;34m(obj, ufunc, method, axis, dtype, out, **kwargs)\u001b[0m\n\u001b[1;32m     72\u001b[0m \u001b[0;34m\u001b[0m\u001b[0m\n\u001b[1;32m     73\u001b[0m \u001b[0;32mdef\u001b[0m \u001b[0m_wrapreduction\u001b[0m\u001b[0;34m(\u001b[0m\u001b[0mobj\u001b[0m\u001b[0;34m,\u001b[0m \u001b[0mufunc\u001b[0m\u001b[0;34m,\u001b[0m \u001b[0mmethod\u001b[0m\u001b[0;34m,\u001b[0m \u001b[0maxis\u001b[0m\u001b[0;34m,\u001b[0m \u001b[0mdtype\u001b[0m\u001b[0;34m,\u001b[0m \u001b[0mout\u001b[0m\u001b[0;34m,\u001b[0m \u001b[0;34m**\u001b[0m\u001b[0mkwargs\u001b[0m\u001b[0;34m)\u001b[0m\u001b[0;34m:\u001b[0m\u001b[0;34m\u001b[0m\u001b[0;34m\u001b[0m\u001b[0m\n\u001b[0;32m---> 74\u001b[0;31m     passkwargs = {k: v for k, v in kwargs.items()\n\u001b[0m\u001b[1;32m     75\u001b[0m                   if v is not np._NoValue}\n\u001b[1;32m     76\u001b[0m \u001b[0;34m\u001b[0m\u001b[0m\n",
            "\u001b[0;32m/usr/local/lib/python3.6/dist-packages/numpy/core/fromnumeric.py\u001b[0m in \u001b[0;36m<dictcomp>\u001b[0;34m(.0)\u001b[0m\n\u001b[1;32m     72\u001b[0m \u001b[0;34m\u001b[0m\u001b[0m\n\u001b[1;32m     73\u001b[0m \u001b[0;32mdef\u001b[0m \u001b[0m_wrapreduction\u001b[0m\u001b[0;34m(\u001b[0m\u001b[0mobj\u001b[0m\u001b[0;34m,\u001b[0m \u001b[0mufunc\u001b[0m\u001b[0;34m,\u001b[0m \u001b[0mmethod\u001b[0m\u001b[0;34m,\u001b[0m \u001b[0maxis\u001b[0m\u001b[0;34m,\u001b[0m \u001b[0mdtype\u001b[0m\u001b[0;34m,\u001b[0m \u001b[0mout\u001b[0m\u001b[0;34m,\u001b[0m \u001b[0;34m**\u001b[0m\u001b[0mkwargs\u001b[0m\u001b[0;34m)\u001b[0m\u001b[0;34m:\u001b[0m\u001b[0;34m\u001b[0m\u001b[0;34m\u001b[0m\u001b[0m\n\u001b[0;32m---> 74\u001b[0;31m     passkwargs = {k: v for k, v in kwargs.items()\n\u001b[0m\u001b[1;32m     75\u001b[0m                   if v is not np._NoValue}\n\u001b[1;32m     76\u001b[0m \u001b[0;34m\u001b[0m\u001b[0m\n",
            "\u001b[0;31mKeyboardInterrupt\u001b[0m: "
          ]
        }
      ]
    },
    {
      "cell_type": "code",
      "metadata": {
        "id": "HGc1UWr--NYR",
        "colab_type": "code",
        "colab": {}
      },
      "source": [
        "s = predict(X,Y,50)\n",
        "print(s)"
      ],
      "execution_count": null,
      "outputs": []
    },
    {
      "cell_type": "code",
      "metadata": {
        "id": "Dwh7UJaRIekJ",
        "colab_type": "code",
        "colab": {
          "base_uri": "https://localhost:8080/",
          "height": 34
        },
        "outputId": "22ad60ce-572d-4fd0-b9c5-95eeae0934bf"
      },
      "source": [
        "s = predict(X,Y,50)\n",
        "print(s)"
      ],
      "execution_count": null,
      "outputs": [
        {
          "output_type": "stream",
          "text": [
            "0.5042\n"
          ],
          "name": "stdout"
        }
      ]
    },
    {
      "cell_type": "code",
      "metadata": {
        "id": "QkPGCqV7IeRP",
        "colab_type": "code",
        "colab": {
          "base_uri": "https://localhost:8080/",
          "height": 34
        },
        "outputId": "65a8f5a3-de0e-4033-d073-a1ead463167f"
      },
      "source": [
        "s1 = predict(x_val1,y_val1,50)\n",
        "print(s1)"
      ],
      "execution_count": null,
      "outputs": [
        {
          "output_type": "stream",
          "text": [
            "0.5012\n"
          ],
          "name": "stdout"
        }
      ]
    },
    {
      "cell_type": "code",
      "metadata": {
        "id": "TNx72HMIIlvV",
        "colab_type": "code",
        "colab": {
          "base_uri": "https://localhost:8080/",
          "height": 279
        },
        "outputId": "50b01b55-616a-49b3-c510-3c3b992add8d"
      },
      "source": [
        "import matplotlib.pyplot as plt\n",
        "plt.plot(l_o_s_s1)\n",
        "plt.xlabel(\"Epoch\")\n",
        "plt.ylabel(\"Loss\")\n",
        "plt.show()"
      ],
      "execution_count": null,
      "outputs": [
        {
          "output_type": "display_data",
          "data": {
            "image/png": "[encoded data removed]",
            "text/plain": [
              "<Figure size 432x288 with 1 Axes>"
            ]
          },
          "metadata": {
            "tags": [],
            "needs_background": "light"
          }
        }
      ]
    },
    {
      "cell_type": "code",
      "metadata": {
        "id": "2YGkfHWGIlpe",
        "colab_type": "code",
        "colab": {}
      },
      "source": [
        ""
      ],
      "execution_count": null,
      "outputs": []
    },
    {
      "cell_type": "code",
      "metadata": {
        "id": "fM8RcF7iIlgC",
        "colab_type": "code",
        "colab": {}
      },
      "source": [
        ""
      ],
      "execution_count": null,
      "outputs": []
    },
    {
      "cell_type": "code",
      "metadata": {
        "id": "ci30eXH4y--F",
        "colab_type": "code",
        "colab": {
          "base_uri": "https://localhost:8080/",
          "height": 1000
        },
        "outputId": "c1bb64f3-a279-42d5-d8e9-149a82c8b316"
      },
      "source": [
        "l_o_s_s1 = train(X,Y,100)"
      ],
      "execution_count": null,
      "outputs": [
        {
          "output_type": "stream",
          "text": [
            "Forward Pass\n",
            "Backword Pass\n",
            "Epoch 0 Loss 1.4957\n",
            "---------------------------------------------------------------------------------------------------\n",
            "Forward Pass\n",
            "Backword Pass\n",
            "Epoch 1 Loss 1.4959\n",
            "---------------------------------------------------------------------------------------------------\n",
            "Forward Pass\n",
            "Backword Pass\n",
            "Epoch 2 Loss 1.4957\n",
            "---------------------------------------------------------------------------------------------------\n",
            "Forward Pass\n",
            "Backword Pass\n",
            "Epoch 3 Loss 1.4959\n",
            "---------------------------------------------------------------------------------------------------\n",
            "Forward Pass\n",
            "Backword Pass\n",
            "Epoch 4 Loss 1.4958\n",
            "---------------------------------------------------------------------------------------------------\n",
            "Forward Pass\n",
            "Backword Pass\n",
            "Epoch 5 Loss 1.4959\n",
            "---------------------------------------------------------------------------------------------------\n",
            "Forward Pass\n",
            "Backword Pass\n",
            "Epoch 6 Loss 1.4958\n",
            "---------------------------------------------------------------------------------------------------\n",
            "Forward Pass\n",
            "Backword Pass\n",
            "Epoch 7 Loss 1.4959\n",
            "---------------------------------------------------------------------------------------------------\n",
            "Forward Pass\n",
            "Backword Pass\n",
            "Epoch 8 Loss 1.4958\n",
            "---------------------------------------------------------------------------------------------------\n",
            "Forward Pass\n",
            "Backword Pass\n",
            "Epoch 9 Loss 1.4959\n",
            "---------------------------------------------------------------------------------------------------\n",
            "Forward Pass\n",
            "Backword Pass\n",
            "Epoch 10 Loss 1.4958\n",
            "---------------------------------------------------------------------------------------------------\n",
            "Forward Pass\n",
            "Backword Pass\n",
            "Epoch 11 Loss 1.4959\n",
            "---------------------------------------------------------------------------------------------------\n",
            "Forward Pass\n",
            "Backword Pass\n",
            "Epoch 12 Loss 1.4958\n",
            "---------------------------------------------------------------------------------------------------\n",
            "Forward Pass\n",
            "Backword Pass\n",
            "Epoch 13 Loss 1.4959\n",
            "---------------------------------------------------------------------------------------------------\n",
            "Forward Pass\n",
            "Backword Pass\n",
            "Epoch 14 Loss 1.4958\n",
            "---------------------------------------------------------------------------------------------------\n",
            "Forward Pass\n",
            "Backword Pass\n",
            "Epoch 15 Loss 1.4959\n",
            "---------------------------------------------------------------------------------------------------\n",
            "Forward Pass\n",
            "Backword Pass\n",
            "Epoch 16 Loss 1.4958\n",
            "---------------------------------------------------------------------------------------------------\n",
            "Forward Pass\n",
            "Backword Pass\n",
            "Epoch 17 Loss 1.4959\n",
            "---------------------------------------------------------------------------------------------------\n",
            "Forward Pass\n",
            "Backword Pass\n",
            "Epoch 18 Loss 1.4958\n",
            "---------------------------------------------------------------------------------------------------\n",
            "Forward Pass\n",
            "Backword Pass\n",
            "Epoch 19 Loss 1.4959\n",
            "---------------------------------------------------------------------------------------------------\n",
            "Forward Pass\n",
            "Backword Pass\n",
            "Epoch 20 Loss 1.4958\n",
            "---------------------------------------------------------------------------------------------------\n",
            "Forward Pass\n",
            "Backword Pass\n",
            "Epoch 21 Loss 1.4959\n",
            "---------------------------------------------------------------------------------------------------\n",
            "Forward Pass\n",
            "Backword Pass\n",
            "Epoch 22 Loss 1.4958\n",
            "---------------------------------------------------------------------------------------------------\n",
            "Forward Pass\n",
            "Backword Pass\n",
            "Epoch 23 Loss 1.4959\n",
            "---------------------------------------------------------------------------------------------------\n",
            "Forward Pass\n",
            "Backword Pass\n",
            "Epoch 24 Loss 1.4958\n",
            "---------------------------------------------------------------------------------------------------\n",
            "Forward Pass\n",
            "Backword Pass\n",
            "Epoch 25 Loss 1.4959\n",
            "---------------------------------------------------------------------------------------------------\n",
            "Forward Pass\n",
            "Backword Pass\n",
            "Epoch 26 Loss 1.4959\n",
            "---------------------------------------------------------------------------------------------------\n",
            "Forward Pass\n",
            "Backword Pass\n",
            "Epoch 27 Loss 1.4959\n",
            "---------------------------------------------------------------------------------------------------\n",
            "Forward Pass\n",
            "Backword Pass\n",
            "Epoch 28 Loss 1.4959\n",
            "---------------------------------------------------------------------------------------------------\n",
            "Forward Pass\n",
            "Backword Pass\n",
            "Epoch 29 Loss 1.4959\n",
            "---------------------------------------------------------------------------------------------------\n",
            "Forward Pass\n",
            "Backword Pass\n",
            "Epoch 30 Loss 1.4959\n",
            "---------------------------------------------------------------------------------------------------\n",
            "Forward Pass\n",
            "Backword Pass\n",
            "Epoch 31 Loss 1.4959\n",
            "---------------------------------------------------------------------------------------------------\n",
            "Forward Pass\n",
            "Backword Pass\n",
            "Epoch 32 Loss 1.4959\n",
            "---------------------------------------------------------------------------------------------------\n",
            "Forward Pass\n",
            "Backword Pass\n",
            "Epoch 33 Loss 1.4959\n",
            "---------------------------------------------------------------------------------------------------\n",
            "Forward Pass\n",
            "Backword Pass\n",
            "Epoch 34 Loss 1.4959\n",
            "---------------------------------------------------------------------------------------------------\n",
            "Forward Pass\n",
            "Backword Pass\n",
            "Epoch 35 Loss 1.4959\n",
            "---------------------------------------------------------------------------------------------------\n",
            "Forward Pass\n",
            "Backword Pass\n",
            "Epoch 36 Loss 1.4959\n",
            "---------------------------------------------------------------------------------------------------\n",
            "Forward Pass\n",
            "Backword Pass\n",
            "Epoch 37 Loss 1.4960\n",
            "---------------------------------------------------------------------------------------------------\n",
            "Forward Pass\n",
            "Backword Pass\n",
            "Epoch 38 Loss 1.4959\n",
            "---------------------------------------------------------------------------------------------------\n",
            "Forward Pass\n",
            "Backword Pass\n",
            "Epoch 39 Loss 1.4960\n",
            "---------------------------------------------------------------------------------------------------\n",
            "Forward Pass\n",
            "Backword Pass\n",
            "Epoch 40 Loss 1.4959\n",
            "---------------------------------------------------------------------------------------------------\n",
            "Forward Pass\n",
            "Backword Pass\n",
            "Epoch 41 Loss 1.4960\n",
            "---------------------------------------------------------------------------------------------------\n",
            "Forward Pass\n",
            "Backword Pass\n",
            "Epoch 42 Loss 1.4959\n",
            "---------------------------------------------------------------------------------------------------\n",
            "Forward Pass\n",
            "Backword Pass\n",
            "Epoch 43 Loss 1.4960\n",
            "---------------------------------------------------------------------------------------------------\n",
            "Forward Pass\n",
            "Backword Pass\n",
            "Epoch 44 Loss 1.4959\n",
            "---------------------------------------------------------------------------------------------------\n",
            "Forward Pass\n",
            "Backword Pass\n",
            "Epoch 45 Loss 1.4960\n",
            "---------------------------------------------------------------------------------------------------\n",
            "Forward Pass\n",
            "Backword Pass\n",
            "Epoch 46 Loss 1.4959\n",
            "---------------------------------------------------------------------------------------------------\n",
            "Forward Pass\n",
            "Backword Pass\n",
            "Epoch 47 Loss 1.4960\n",
            "---------------------------------------------------------------------------------------------------\n",
            "Forward Pass\n",
            "Backword Pass\n",
            "Epoch 48 Loss 1.4959\n",
            "---------------------------------------------------------------------------------------------------\n",
            "Forward Pass\n",
            "Backword Pass\n",
            "Epoch 49 Loss 1.4960\n",
            "---------------------------------------------------------------------------------------------------\n",
            "Forward Pass\n",
            "Backword Pass\n",
            "Epoch 50 Loss 1.4959\n",
            "---------------------------------------------------------------------------------------------------\n",
            "Forward Pass\n",
            "Backword Pass\n",
            "Epoch 51 Loss 1.4960\n",
            "---------------------------------------------------------------------------------------------------\n",
            "Forward Pass\n",
            "Backword Pass\n"
          ],
          "name": "stdout"
        },
        {
          "output_type": "error",
          "ename": "KeyboardInterrupt",
          "evalue": "ignored",
          "traceback": [
            "\u001b[0;31m---------------------------------------------------------------------------\u001b[0m",
            "\u001b[0;31mKeyboardInterrupt\u001b[0m                         Traceback (most recent call last)",
            "\u001b[0;32m<ipython-input-35-6225bb4fa23a>\u001b[0m in \u001b[0;36m<module>\u001b[0;34m()\u001b[0m\n\u001b[0;32m----> 1\u001b[0;31m \u001b[0ml_o_s_s1\u001b[0m \u001b[0;34m=\u001b[0m \u001b[0mtrain\u001b[0m\u001b[0;34m(\u001b[0m\u001b[0mX\u001b[0m\u001b[0;34m,\u001b[0m\u001b[0mY\u001b[0m\u001b[0;34m,\u001b[0m\u001b[0;36m100\u001b[0m\u001b[0;34m)\u001b[0m\u001b[0;34m\u001b[0m\u001b[0;34m\u001b[0m\u001b[0m\n\u001b[0m",
            "\u001b[0;32m<ipython-input-30-837e8905cec4>\u001b[0m in \u001b[0;36mtrain\u001b[0;34m(X, Y, epochs, logs)\u001b[0m\n\u001b[1;32m     68\u001b[0m         \u001b[0mdp1\u001b[0m\u001b[0;34m[\u001b[0m\u001b[0mdp1\u001b[0m\u001b[0;34m<=\u001b[0m\u001b[0;36m0\u001b[0m\u001b[0;34m]\u001b[0m \u001b[0;34m=\u001b[0m \u001b[0;36m0\u001b[0m\u001b[0;34m\u001b[0m\u001b[0;34m\u001b[0m\u001b[0m\n\u001b[1;32m     69\u001b[0m         \u001b[0;31m#dc2 = conv_layer2.Backward_pass(c1,dp1)\u001b[0m\u001b[0;34m\u001b[0m\u001b[0;34m\u001b[0m\u001b[0;34m\u001b[0m\u001b[0m\n\u001b[0;32m---> 70\u001b[0;31m         \u001b[0mdc1\u001b[0m \u001b[0;34m=\u001b[0m \u001b[0mconv_layer1\u001b[0m\u001b[0;34m.\u001b[0m\u001b[0mBackward_pass\u001b[0m\u001b[0;34m(\u001b[0m\u001b[0mx_i\u001b[0m\u001b[0;34m,\u001b[0m\u001b[0mdp1\u001b[0m\u001b[0;34m)\u001b[0m\u001b[0;34m\u001b[0m\u001b[0;34m\u001b[0m\u001b[0m\n\u001b[0m\u001b[1;32m     71\u001b[0m \u001b[0;34m\u001b[0m\u001b[0m\n\u001b[1;32m     72\u001b[0m         \u001b[0;32mif\u001b[0m\u001b[0;34m(\u001b[0m\u001b[0mlogs\u001b[0m\u001b[0;34m)\u001b[0m\u001b[0;34m:\u001b[0m\u001b[0;34m\u001b[0m\u001b[0;34m\u001b[0m\u001b[0m\n",
            "\u001b[0;32m/content/CNN.py\u001b[0m in \u001b[0;36mBackward_pass\u001b[0;34m(self, input_X, dl_do, lr)\u001b[0m\n\u001b[1;32m    110\u001b[0m \u001b[0;34m\u001b[0m\u001b[0m\n\u001b[1;32m    111\u001b[0m                         \u001b[0mdl_dx_img\u001b[0m\u001b[0;34m[\u001b[0m\u001b[0;34m(\u001b[0m\u001b[0mheight\u001b[0m\u001b[0;34m*\u001b[0m\u001b[0mstride\u001b[0m\u001b[0;34m)\u001b[0m\u001b[0;34m:\u001b[0m\u001b[0;34m(\u001b[0m\u001b[0mheight\u001b[0m\u001b[0;34m*\u001b[0m\u001b[0mstride\u001b[0m\u001b[0;34m)\u001b[0m\u001b[0;34m+\u001b[0m\u001b[0mf\u001b[0m\u001b[0;34m,\u001b[0m\u001b[0;34m(\u001b[0m\u001b[0mwidth\u001b[0m\u001b[0;34m*\u001b[0m\u001b[0mstride\u001b[0m\u001b[0;34m)\u001b[0m\u001b[0;34m:\u001b[0m\u001b[0;34m(\u001b[0m\u001b[0mwidth\u001b[0m\u001b[0;34m*\u001b[0m\u001b[0mstride\u001b[0m\u001b[0;34m)\u001b[0m\u001b[0;34m+\u001b[0m\u001b[0mf\u001b[0m\u001b[0;34m,\u001b[0m\u001b[0;34m:\u001b[0m\u001b[0;34m]\u001b[0m \u001b[0;34m+=\u001b[0m \u001b[0mfilt\u001b[0m\u001b[0;34m[\u001b[0m\u001b[0;34m:\u001b[0m\u001b[0;34m,\u001b[0m\u001b[0;34m:\u001b[0m\u001b[0;34m,\u001b[0m\u001b[0;34m:\u001b[0m\u001b[0;34m,\u001b[0m\u001b[0mfilter_no\u001b[0m\u001b[0;34m]\u001b[0m \u001b[0;34m*\u001b[0m \u001b[0mdl_do\u001b[0m\u001b[0;34m[\u001b[0m\u001b[0mi\u001b[0m\u001b[0;34m,\u001b[0m \u001b[0mheight\u001b[0m\u001b[0;34m,\u001b[0m \u001b[0mwidth\u001b[0m\u001b[0;34m,\u001b[0m \u001b[0mfilter_no\u001b[0m\u001b[0;34m]\u001b[0m\u001b[0;34m\u001b[0m\u001b[0;34m\u001b[0m\u001b[0m\n\u001b[0;32m--> 112\u001b[0;31m                         \u001b[0mdl_df\u001b[0m\u001b[0;34m[\u001b[0m\u001b[0;34m:\u001b[0m\u001b[0;34m,\u001b[0m\u001b[0;34m:\u001b[0m\u001b[0;34m,\u001b[0m\u001b[0;34m:\u001b[0m\u001b[0;34m,\u001b[0m\u001b[0mfilter_no\u001b[0m\u001b[0;34m]\u001b[0m \u001b[0;34m+=\u001b[0m \u001b[0mimg_\u001b[0m \u001b[0;34m*\u001b[0m \u001b[0mdl_do\u001b[0m\u001b[0;34m[\u001b[0m\u001b[0mi\u001b[0m\u001b[0;34m,\u001b[0m \u001b[0mheight\u001b[0m\u001b[0;34m,\u001b[0m \u001b[0mwidth\u001b[0m\u001b[0;34m,\u001b[0m \u001b[0mfilter_no\u001b[0m\u001b[0;34m]\u001b[0m\u001b[0;34m\u001b[0m\u001b[0;34m\u001b[0m\u001b[0m\n\u001b[0m\u001b[1;32m    113\u001b[0m                         \u001b[0mdb\u001b[0m\u001b[0;34m[\u001b[0m\u001b[0;34m:\u001b[0m\u001b[0;34m,\u001b[0m\u001b[0;34m:\u001b[0m\u001b[0;34m,\u001b[0m\u001b[0;34m:\u001b[0m\u001b[0;34m,\u001b[0m\u001b[0mfilter_no\u001b[0m\u001b[0;34m]\u001b[0m \u001b[0;34m+=\u001b[0m \u001b[0mdl_do\u001b[0m\u001b[0;34m[\u001b[0m\u001b[0mi\u001b[0m\u001b[0;34m,\u001b[0m \u001b[0mheight\u001b[0m\u001b[0;34m,\u001b[0m \u001b[0mwidth\u001b[0m\u001b[0;34m,\u001b[0m \u001b[0mfilter_no\u001b[0m\u001b[0;34m]\u001b[0m\u001b[0;34m\u001b[0m\u001b[0;34m\u001b[0m\u001b[0m\n\u001b[1;32m    114\u001b[0m \u001b[0;34m\u001b[0m\u001b[0m\n",
            "\u001b[0;31mKeyboardInterrupt\u001b[0m: "
          ]
        }
      ]
    },
    {
      "cell_type": "code",
      "metadata": {
        "id": "yciVO5L-rKIr",
        "colab_type": "code",
        "colab": {
          "base_uri": "https://localhost:8080/",
          "height": 1000
        },
        "outputId": "5b3bd5ff-c742-4433-8b9f-d79d283d903c"
      },
      "source": [
        "l_o_s_s = train(X,Y,100)"
      ],
      "execution_count": null,
      "outputs": [
        {
          "output_type": "stream",
          "text": [
            "Forward Pass\n",
            "Input shape = (50, 50, 50, 3) Filter shape = (3, 3, 3, 32) Output shape = (50, 50, 50, 32)\n",
            "Input shape = (50, 50, 50, 32) Output shape = (50, 25, 25, 32)\n",
            "Input shape = (50, 25, 25, 32) Filter shape = (3, 3, 32, 64) Output shape = (50, 25, 25, 64)\n",
            "Input shape = (50, 25, 25, 64) Output shape = (50, 12, 12, 64)\n",
            "Input shape = (50, 12, 12, 64) Filter shape = (3, 3, 64, 64) Output shape = (50, 12, 12, 64)\n",
            "Input shape = (50, 12, 12, 64) Output shape = (50, 6, 6, 64)\n",
            "Backword Pass\n",
            "Epoch 0 Loss 8.5088\n",
            "---------------------------------------------------------------------------------------------------\n",
            "Forward Pass\n",
            "Backword Pass\n",
            "Epoch 1 Loss 5.3278\n",
            "---------------------------------------------------------------------------------------------------\n",
            "Forward Pass\n",
            "Backword Pass\n",
            "Epoch 2 Loss 4.8393\n",
            "---------------------------------------------------------------------------------------------------\n",
            "Forward Pass\n",
            "Backword Pass\n",
            "Epoch 3 Loss 2.6885\n",
            "---------------------------------------------------------------------------------------------------\n",
            "Forward Pass\n",
            "Backword Pass\n",
            "Epoch 4 Loss 2.3262\n",
            "---------------------------------------------------------------------------------------------------\n",
            "Forward Pass\n",
            "Backword Pass\n",
            "Epoch 5 Loss 31.0381\n",
            "---------------------------------------------------------------------------------------------------\n",
            "Forward Pass\n",
            "Backword Pass\n",
            "Epoch 6 Loss 24.2446\n",
            "---------------------------------------------------------------------------------------------------\n",
            "Forward Pass\n",
            "Backword Pass\n",
            "Epoch 7 Loss 20.2091\n",
            "---------------------------------------------------------------------------------------------------\n",
            "Forward Pass\n",
            "Backword Pass\n",
            "Epoch 8 Loss 16.6486\n",
            "---------------------------------------------------------------------------------------------------\n",
            "Forward Pass\n",
            "Backword Pass\n",
            "Epoch 9 Loss 10.5307\n",
            "---------------------------------------------------------------------------------------------------\n",
            "Forward Pass\n",
            "Backword Pass\n",
            "Epoch 10 Loss 7.1407\n",
            "---------------------------------------------------------------------------------------------------\n",
            "Forward Pass\n",
            "Backword Pass\n",
            "Epoch 11 Loss 3.5896\n",
            "---------------------------------------------------------------------------------------------------\n",
            "Forward Pass\n",
            "Backword Pass\n",
            "Epoch 12 Loss 0.7542\n",
            "---------------------------------------------------------------------------------------------------\n",
            "Forward Pass\n",
            "Backword Pass\n",
            "Epoch 13 Loss 0.9449\n",
            "---------------------------------------------------------------------------------------------------\n",
            "Forward Pass\n",
            "Backword Pass\n",
            "Epoch 14 Loss 1.3797\n",
            "---------------------------------------------------------------------------------------------------\n",
            "Forward Pass\n",
            "Backword Pass\n",
            "Epoch 15 Loss 1.5486\n",
            "---------------------------------------------------------------------------------------------------\n",
            "Forward Pass\n",
            "Backword Pass\n",
            "Epoch 16 Loss 1.4907\n",
            "---------------------------------------------------------------------------------------------------\n",
            "Forward Pass\n",
            "Backword Pass\n",
            "Epoch 17 Loss 1.5165\n",
            "---------------------------------------------------------------------------------------------------\n",
            "Forward Pass\n",
            "Backword Pass\n",
            "Epoch 18 Loss 1.4948\n",
            "---------------------------------------------------------------------------------------------------\n",
            "Forward Pass\n",
            "Backword Pass\n",
            "Epoch 19 Loss 1.5070\n",
            "---------------------------------------------------------------------------------------------------\n",
            "Forward Pass\n",
            "Backword Pass\n",
            "Epoch 20 Loss 1.4942\n",
            "---------------------------------------------------------------------------------------------------\n",
            "Forward Pass\n",
            "Backword Pass\n",
            "Epoch 21 Loss 1.5028\n",
            "---------------------------------------------------------------------------------------------------\n",
            "Forward Pass\n",
            "Backword Pass\n",
            "Epoch 22 Loss 1.4941\n",
            "---------------------------------------------------------------------------------------------------\n",
            "Forward Pass\n",
            "Backword Pass\n",
            "Epoch 23 Loss 1.5008\n",
            "---------------------------------------------------------------------------------------------------\n",
            "Forward Pass\n",
            "Backword Pass\n",
            "Epoch 24 Loss 1.4942\n",
            "---------------------------------------------------------------------------------------------------\n",
            "Forward Pass\n",
            "Backword Pass\n",
            "Epoch 25 Loss 1.4999\n",
            "---------------------------------------------------------------------------------------------------\n",
            "Forward Pass\n",
            "Backword Pass\n",
            "Epoch 26 Loss 1.4942\n",
            "---------------------------------------------------------------------------------------------------\n",
            "Forward Pass\n",
            "Backword Pass\n",
            "Epoch 27 Loss 1.4994\n",
            "---------------------------------------------------------------------------------------------------\n",
            "Forward Pass\n",
            "Backword Pass\n",
            "Epoch 28 Loss 1.4941\n",
            "---------------------------------------------------------------------------------------------------\n",
            "Forward Pass\n",
            "Backword Pass\n",
            "Epoch 29 Loss 1.4990\n",
            "---------------------------------------------------------------------------------------------------\n",
            "Forward Pass\n",
            "Backword Pass\n",
            "Epoch 30 Loss 1.4939\n",
            "---------------------------------------------------------------------------------------------------\n",
            "Forward Pass\n",
            "Backword Pass\n",
            "Epoch 31 Loss 1.4985\n",
            "---------------------------------------------------------------------------------------------------\n",
            "Forward Pass\n",
            "Backword Pass\n",
            "Epoch 32 Loss 1.4939\n",
            "---------------------------------------------------------------------------------------------------\n",
            "Forward Pass\n",
            "Backword Pass\n",
            "Epoch 33 Loss 1.4981\n",
            "---------------------------------------------------------------------------------------------------\n",
            "Forward Pass\n",
            "Backword Pass\n",
            "Epoch 34 Loss 1.4938\n",
            "---------------------------------------------------------------------------------------------------\n",
            "Forward Pass\n",
            "Backword Pass\n",
            "Epoch 35 Loss 1.4976\n",
            "---------------------------------------------------------------------------------------------------\n",
            "Forward Pass\n",
            "Backword Pass\n",
            "Epoch 36 Loss 1.4939\n",
            "---------------------------------------------------------------------------------------------------\n",
            "Forward Pass\n",
            "Backword Pass\n",
            "Epoch 37 Loss 1.4972\n",
            "---------------------------------------------------------------------------------------------------\n",
            "Forward Pass\n",
            "Backword Pass\n",
            "Epoch 38 Loss 1.4940\n",
            "---------------------------------------------------------------------------------------------------\n",
            "Forward Pass\n",
            "Backword Pass\n",
            "Epoch 39 Loss 1.4969\n",
            "---------------------------------------------------------------------------------------------------\n",
            "Forward Pass\n",
            "Backword Pass\n",
            "Epoch 40 Loss 1.4942\n",
            "---------------------------------------------------------------------------------------------------\n",
            "Forward Pass\n",
            "Backword Pass\n",
            "Epoch 41 Loss 1.4967\n",
            "---------------------------------------------------------------------------------------------------\n",
            "Forward Pass\n",
            "Backword Pass\n",
            "Epoch 42 Loss 1.4943\n",
            "---------------------------------------------------------------------------------------------------\n",
            "Forward Pass\n",
            "Backword Pass\n",
            "Epoch 43 Loss 1.4965\n",
            "---------------------------------------------------------------------------------------------------\n",
            "Forward Pass\n",
            "Backword Pass\n",
            "Epoch 44 Loss 1.4944\n",
            "---------------------------------------------------------------------------------------------------\n",
            "Forward Pass\n",
            "Backword Pass\n",
            "Epoch 45 Loss 1.4963\n",
            "---------------------------------------------------------------------------------------------------\n",
            "Forward Pass\n",
            "Backword Pass\n",
            "Epoch 46 Loss 1.4945\n",
            "---------------------------------------------------------------------------------------------------\n",
            "Forward Pass\n",
            "Backword Pass\n",
            "Epoch 47 Loss 1.4962\n",
            "---------------------------------------------------------------------------------------------------\n",
            "Forward Pass\n",
            "Backword Pass\n",
            "Epoch 48 Loss 1.4947\n",
            "---------------------------------------------------------------------------------------------------\n",
            "Forward Pass\n",
            "Backword Pass\n",
            "Epoch 49 Loss 1.4961\n",
            "---------------------------------------------------------------------------------------------------\n",
            "Forward Pass\n",
            "Backword Pass\n",
            "Epoch 50 Loss 1.4948\n",
            "---------------------------------------------------------------------------------------------------\n",
            "Forward Pass\n",
            "Backword Pass\n",
            "Epoch 51 Loss 1.4960\n",
            "---------------------------------------------------------------------------------------------------\n",
            "Forward Pass\n",
            "Backword Pass\n",
            "Epoch 52 Loss 1.4949\n",
            "---------------------------------------------------------------------------------------------------\n",
            "Forward Pass\n",
            "Backword Pass\n",
            "Epoch 53 Loss 1.4960\n",
            "---------------------------------------------------------------------------------------------------\n",
            "Forward Pass\n",
            "Backword Pass\n",
            "Epoch 54 Loss 1.4949\n",
            "---------------------------------------------------------------------------------------------------\n",
            "Forward Pass\n",
            "Backword Pass\n",
            "Epoch 55 Loss 1.4959\n",
            "---------------------------------------------------------------------------------------------------\n",
            "Forward Pass\n",
            "Backword Pass\n",
            "Epoch 56 Loss 1.4950\n",
            "---------------------------------------------------------------------------------------------------\n",
            "Forward Pass\n",
            "Backword Pass\n",
            "Epoch 57 Loss 1.4959\n",
            "---------------------------------------------------------------------------------------------------\n",
            "Forward Pass\n",
            "Backword Pass\n",
            "Epoch 58 Loss 1.4951\n",
            "---------------------------------------------------------------------------------------------------\n",
            "Forward Pass\n",
            "Backword Pass\n",
            "Epoch 59 Loss 1.4959\n",
            "---------------------------------------------------------------------------------------------------\n",
            "Forward Pass\n",
            "Backword Pass\n",
            "Epoch 60 Loss 1.4952\n",
            "---------------------------------------------------------------------------------------------------\n",
            "Forward Pass\n",
            "Backword Pass\n",
            "Epoch 61 Loss 1.4959\n",
            "---------------------------------------------------------------------------------------------------\n",
            "Forward Pass\n",
            "Backword Pass\n",
            "Epoch 62 Loss 1.4952\n",
            "---------------------------------------------------------------------------------------------------\n",
            "Forward Pass\n",
            "Backword Pass\n",
            "Epoch 63 Loss 1.4959\n",
            "---------------------------------------------------------------------------------------------------\n",
            "Forward Pass\n",
            "Backword Pass\n",
            "Epoch 64 Loss 1.4953\n",
            "---------------------------------------------------------------------------------------------------\n",
            "Forward Pass\n",
            "Backword Pass\n",
            "Epoch 65 Loss 1.4959\n",
            "---------------------------------------------------------------------------------------------------\n",
            "Forward Pass\n",
            "Backword Pass\n",
            "Epoch 66 Loss 1.4953\n",
            "---------------------------------------------------------------------------------------------------\n",
            "Forward Pass\n",
            "Backword Pass\n",
            "Epoch 67 Loss 1.4959\n",
            "---------------------------------------------------------------------------------------------------\n",
            "Forward Pass\n",
            "Backword Pass\n",
            "Epoch 68 Loss 1.4954\n",
            "---------------------------------------------------------------------------------------------------\n",
            "Forward Pass\n",
            "Backword Pass\n",
            "Epoch 69 Loss 1.4959\n",
            "---------------------------------------------------------------------------------------------------\n",
            "Forward Pass\n",
            "Backword Pass\n",
            "Epoch 70 Loss 1.4954\n",
            "---------------------------------------------------------------------------------------------------\n",
            "Forward Pass\n",
            "Backword Pass\n",
            "Epoch 71 Loss 1.4959\n",
            "---------------------------------------------------------------------------------------------------\n",
            "Forward Pass\n",
            "Backword Pass\n",
            "Epoch 72 Loss 1.4954\n",
            "---------------------------------------------------------------------------------------------------\n",
            "Forward Pass\n",
            "Backword Pass\n",
            "Epoch 73 Loss 1.4959\n",
            "---------------------------------------------------------------------------------------------------\n",
            "Forward Pass\n",
            "Backword Pass\n",
            "Epoch 74 Loss 1.4955\n",
            "---------------------------------------------------------------------------------------------------\n",
            "Forward Pass\n",
            "Backword Pass\n",
            "Epoch 75 Loss 1.4959\n",
            "---------------------------------------------------------------------------------------------------\n",
            "Forward Pass\n",
            "Backword Pass\n",
            "Epoch 76 Loss 1.4955\n",
            "---------------------------------------------------------------------------------------------------\n",
            "Forward Pass\n",
            "Backword Pass\n",
            "Epoch 77 Loss 1.4959\n",
            "---------------------------------------------------------------------------------------------------\n",
            "Forward Pass\n",
            "Backword Pass\n",
            "Epoch 78 Loss 1.4955\n",
            "---------------------------------------------------------------------------------------------------\n",
            "Forward Pass\n",
            "Backword Pass\n",
            "Epoch 79 Loss 1.4959\n",
            "---------------------------------------------------------------------------------------------------\n",
            "Forward Pass\n",
            "Backword Pass\n",
            "Epoch 80 Loss 1.4956\n",
            "---------------------------------------------------------------------------------------------------\n",
            "Forward Pass\n",
            "Backword Pass\n",
            "Epoch 81 Loss 1.4959\n",
            "---------------------------------------------------------------------------------------------------\n",
            "Forward Pass\n",
            "Backword Pass\n",
            "Epoch 82 Loss 1.4956\n",
            "---------------------------------------------------------------------------------------------------\n",
            "Forward Pass\n",
            "Backword Pass\n",
            "Epoch 83 Loss 1.4959\n",
            "---------------------------------------------------------------------------------------------------\n",
            "Forward Pass\n",
            "Backword Pass\n",
            "Epoch 84 Loss 1.4956\n",
            "---------------------------------------------------------------------------------------------------\n",
            "Forward Pass\n",
            "Backword Pass\n",
            "Epoch 85 Loss 1.4959\n",
            "---------------------------------------------------------------------------------------------------\n",
            "Forward Pass\n",
            "Backword Pass\n",
            "Epoch 86 Loss 1.4956\n",
            "---------------------------------------------------------------------------------------------------\n",
            "Forward Pass\n",
            "Backword Pass\n",
            "Epoch 87 Loss 1.4959\n",
            "---------------------------------------------------------------------------------------------------\n",
            "Forward Pass\n",
            "Backword Pass\n",
            "Epoch 88 Loss 1.4956\n",
            "---------------------------------------------------------------------------------------------------\n",
            "Forward Pass\n",
            "Backword Pass\n",
            "Epoch 89 Loss 1.4959\n",
            "---------------------------------------------------------------------------------------------------\n",
            "Forward Pass\n",
            "Backword Pass\n",
            "Epoch 90 Loss 1.4957\n",
            "---------------------------------------------------------------------------------------------------\n",
            "Forward Pass\n",
            "Backword Pass\n",
            "Epoch 91 Loss 1.4959\n",
            "---------------------------------------------------------------------------------------------------\n",
            "Forward Pass\n",
            "Backword Pass\n",
            "Epoch 92 Loss 1.4957\n",
            "---------------------------------------------------------------------------------------------------\n",
            "Forward Pass\n",
            "Backword Pass\n",
            "Epoch 93 Loss 1.4959\n",
            "---------------------------------------------------------------------------------------------------\n",
            "Forward Pass\n",
            "Backword Pass\n",
            "Epoch 94 Loss 1.4957\n",
            "---------------------------------------------------------------------------------------------------\n",
            "Forward Pass\n",
            "Backword Pass\n",
            "Epoch 95 Loss 1.4959\n",
            "---------------------------------------------------------------------------------------------------\n",
            "Forward Pass\n",
            "Backword Pass\n",
            "Epoch 96 Loss 1.4957\n",
            "---------------------------------------------------------------------------------------------------\n",
            "Forward Pass\n",
            "Backword Pass\n",
            "Epoch 97 Loss 1.4959\n",
            "---------------------------------------------------------------------------------------------------\n",
            "Forward Pass\n",
            "Backword Pass\n",
            "Epoch 98 Loss 1.4957\n",
            "---------------------------------------------------------------------------------------------------\n",
            "Forward Pass\n",
            "Backword Pass\n",
            "Epoch 99 Loss 1.4959\n",
            "---------------------------------------------------------------------------------------------------\n"
          ],
          "name": "stdout"
        }
      ]
    },
    {
      "cell_type": "code",
      "metadata": {
        "id": "NxvKpKBnlaq9",
        "colab_type": "code",
        "colab": {
          "base_uri": "https://localhost:8080/",
          "height": 279
        },
        "outputId": "1cda733d-1be7-4a27-b93d-1d85294ce03e"
      },
      "source": [
        "import matplotlib.pyplot as plt\n",
        "plt.plot(l_o_s_s)\n",
        "plt.xlabel(\"Epoch\")\n",
        "plt.ylabel(\"Loss\")\n",
        "plt.show()"
      ],
      "execution_count": null,
      "outputs": [
        {
          "output_type": "display_data",
          "data": {
            "image/png": "[encoded data removed]",
            "text/plain": [
              "<Figure size 432x288 with 1 Axes>"
            ]
          },
          "metadata": {
            "tags": [],
            "needs_background": "light"
          }
        }
      ]
    },
    {
      "cell_type": "code",
      "metadata": {
        "id": "uon-ikFt2g3_",
        "colab_type": "code",
        "colab": {}
      },
      "source": [
        ""
      ],
      "execution_count": null,
      "outputs": []
    }
  ]
}