{
  "nbformat": 4,
  "nbformat_minor": 0,
  "metadata": {
    "kernelspec": {
      "display_name": "Python 3",
      "language": "python",
      "name": "python3"
    },
    "language_info": {
      "codemirror_mode": {
        "name": "ipython",
        "version": 3
      },
      "file_extension": ".py",
      "mimetype": "text/x-python",
      "name": "python",
      "nbconvert_exporter": "python",
      "pygments_lexer": "ipython3",
      "version": "3.7.7"
    },
    "colab": {
      "name": "Dummy_run (1).ipynb",
      "provenance": [],
      "collapsed_sections": []
    }
  },
  "cells": [
    {
      "cell_type": "code",
      "metadata": {
        "id": "suE1A2St3JPA",
        "colab_type": "code",
        "colab": {}
      },
      "source": [
        "import numpy as np\n",
        "import pandas as pd\n",
        "import matplotlib.pyplot as plt\n",
        "import cv2"
      ],
      "execution_count": null,
      "outputs": []
    },
    {
      "cell_type": "code",
      "metadata": {
        "id": "MTUFnI9U3JSt",
        "colab_type": "code",
        "colab": {}
      },
      "source": [
        "df = pd.read_csv('/content/sample_data/mnist_train_small.csv').values"
      ],
      "execution_count": null,
      "outputs": []
    },
    {
      "cell_type": "code",
      "metadata": {
        "id": "hxcuLcgz3JUd",
        "colab_type": "code",
        "colab": {
          "base_uri": "https://localhost:8080/",
          "height": 34
        },
        "outputId": "8a349cb2-88f3-4420-978b-8c36be894f24"
      },
      "source": [
        "df.shape"
      ],
      "execution_count": null,
      "outputs": [
        {
          "output_type": "execute_result",
          "data": {
            "text/plain": [
              "(19999, 785)"
            ]
          },
          "metadata": {
            "tags": []
          },
          "execution_count": 3
        }
      ]
    },
    {
      "cell_type": "code",
      "metadata": {
        "id": "9WpRiwrx3Ja_",
        "colab_type": "code",
        "colab": {}
      },
      "source": [
        "X,Y = df[:,1:],df[:,0]"
      ],
      "execution_count": null,
      "outputs": []
    },
    {
      "cell_type": "code",
      "metadata": {
        "id": "lX1abFYe3JhJ",
        "colab_type": "code",
        "colab": {
          "base_uri": "https://localhost:8080/",
          "height": 34
        },
        "outputId": "8cef6e8d-2edd-490c-8b9f-9296a3b37a2b"
      },
      "source": [
        "X.shape,Y.shape"
      ],
      "execution_count": null,
      "outputs": [
        {
          "output_type": "execute_result",
          "data": {
            "text/plain": [
              "((19999, 784), (19999,))"
            ]
          },
          "metadata": {
            "tags": []
          },
          "execution_count": 5
        }
      ]
    },
    {
      "cell_type": "code",
      "metadata": {
        "id": "nO_t57KY3qBk",
        "colab_type": "code",
        "colab": {}
      },
      "source": [
        "X = np.reshape(X,(19999,1,28,28))"
      ],
      "execution_count": null,
      "outputs": []
    },
    {
      "cell_type": "code",
      "metadata": {
        "id": "0tRCOsMe71_e",
        "colab_type": "code",
        "colab": {}
      },
      "source": [
        "from sklearn.model_selection import train_test_split\n",
        "X_test, x_val, Y_test, y_val = train_test_split(X,Y,test_size=0.69, random_state = 22 , shuffle =True)"
      ],
      "execution_count": null,
      "outputs": []
    },
    {
      "cell_type": "code",
      "metadata": {
        "id": "0w0WCyYV8pbJ",
        "colab_type": "code",
        "colab": {}
      },
      "source": [
        "X,Y = X_test[0:6000,:,:,:],Y_test[0:6000]"
      ],
      "execution_count": null,
      "outputs": []
    },
    {
      "cell_type": "code",
      "metadata": {
        "id": "L4hK5Z8084Yt",
        "colab_type": "code",
        "colab": {}
      },
      "source": [
        "x_val1,y_val1 = x_val[5000:11000],y_val[5000:11000] "
      ],
      "execution_count": null,
      "outputs": []
    },
    {
      "cell_type": "code",
      "metadata": {
        "id": "DwvbB4I48DWy",
        "colab_type": "code",
        "colab": {
          "base_uri": "https://localhost:8080/",
          "height": 34
        },
        "outputId": "cd0fb131-3289-46e7-bd18-9d517b45015e"
      },
      "source": [
        "X.shape,Y.shape, x_val1.shape,y_val1.shape"
      ],
      "execution_count": null,
      "outputs": [
        {
          "output_type": "execute_result",
          "data": {
            "text/plain": [
              "((6000, 1, 28, 28), (6000, 1), (6000, 1, 28, 28), (6000, 1))"
            ]
          },
          "metadata": {
            "tags": []
          },
          "execution_count": 12
        }
      ]
    },
    {
      "cell_type": "code",
      "metadata": {
        "id": "yCYqP0v29CFY",
        "colab_type": "code",
        "colab": {}
      },
      "source": [
        " Y = np.reshape(Y,(6000,1))\n",
        "y_val1 = np.reshape(y_val1,(6000,1))"
      ],
      "execution_count": null,
      "outputs": []
    },
    {
      "cell_type": "code",
      "metadata": {
        "id": "n9Ret9QG3JlC",
        "colab_type": "code",
        "colab": {}
      },
      "source": [
        "from CNN import CNN\n",
        "from max_pool import max_pool\n",
        "from NeuralNetwork import NeuralNetwork,one_hot,softmax,loss "
      ],
      "execution_count": null,
      "outputs": []
    },
    {
      "cell_type": "code",
      "metadata": {
        "id": "ieYkUDl56pb8",
        "colab_type": "code",
        "colab": {}
      },
      "source": [
        "conv_layer1 = CNN(n_f = 32 , f = 3 , stride = 1 , padding = 'same')\n",
        "#conv_layer2 = CNN(n_f = 64 , f = 3 , stride = 1 , padding = 'same')\n",
        "pooling1 = max_pool(f=2,mode = \"max\",stride=2)\n",
        "conv_layer3 = CNN(n_f = 32 , f = 3 , stride = 1 , padding = 'same')\n",
        "#conv_layer4 = CNN(n_f = 128 , f = 3 , stride = 1 , padding = 'same')\n",
        "pooling2 = max_pool(f=2,mode = \"max\",stride=2)\n",
        "conv_layer5 = CNN(n_f = 64 , f = 3 , stride = 1 , padding = 'same')\n",
        "# conv_layer6 = CNN(n_f = 64 , f = 3 , stride = 1 , padding = 'same')\n",
        "# conv_layer7 = CNN(n_f = 64 , f = 3 , stride = 1 , padding = 'same')\n",
        "# pooling3 = max_pool(f=2,mode = \"max\",stride=2)\n",
        "# conv_layer8 = CNN(n_f = 128 , f = 3 , stride = 1 , padding = 'same')\n",
        "# conv_layer9 = CNN(n_f = 128 , f = 3 , stride = 1 , padding = 'same')\n",
        "# conv_layer10 = CNN(n_f = 128 , f = 3 , stride = 1 , padding = 'same')\n",
        "# pooling4 = max_pool(f=2,mode = \"max\",stride=2)\n",
        "# conv_layer11 = CNN(n_f = 128 , f = 3 , stride = 1 , padding = 'same')\n",
        "# conv_layer12 = CNN(n_f = 128 , f = 3 , stride = 1 , padding = 'same')\n",
        "# conv_layer13 = CNN(n_f = 128 , f = 3 , stride = 1 , padding = 'same')\n",
        "pooling5 = max_pool(f=2,mode = \"max\",stride=2)\n",
        "neural0 = NeuralNetwork(input_size = 576,layers = (128,64) ,output_size = 10)"
      ],
      "execution_count": null,
      "outputs": []
    },
    {
      "cell_type": "code",
      "metadata": {
        "id": "QSIE1x5M6pYY",
        "colab_type": "code",
        "colab": {}
      },
      "source": [
        "def train(X,Y,epochs,lr1=0.001,logs=True):\n",
        "    training_loss = []\n",
        "    \n",
        "    classes = 10\n",
        "    Y_OHT = one_hot(Y,classes)\n",
        "    #print(Y_OHT.shape)\n",
        "\n",
        "    for ix in range(epochs):\n",
        "\n",
        "        x_i = X[ix*200:(ix+1)*200,:,:,:]\n",
        "        y_i = Y_OHT[ix*200:(ix+1)*200,:]\n",
        "        #print(x_i.shape,y_i.shape)\n",
        "\n",
        "        #print('---------------------------------------------------------------------------------------------------')\n",
        "        print(\"Forward Pass\")\n",
        "        c1 = conv_layer1.Forward_pass(x_i)\n",
        "        c1[c1<=0] = 0\n",
        "        #c2 = conv_layer2.Forward_pass(c1)\n",
        "        p1 = pooling1.Forward_pass(c1)\n",
        "        c3 = conv_layer3.Forward_pass(p1)\n",
        "        c3[c3<=0] = 0\n",
        "        #c4 = conv_layer4.Forward_pass(c3)\n",
        "        p2 = pooling2.Forward_pass(c3)\n",
        "        c5 = conv_layer5.Forward_pass(p2)\n",
        "        c5[c5<=0] = 0\n",
        "        # c6 = conv_layer6.Forward_pass(c5)\n",
        "        # c7 = conv_layer7.Forward_pass(c6)\n",
        "        # p3 = pooling3.Forward_pass(c7)\n",
        "        # c8 = conv_layer8.Forward_pass(p3)\n",
        "        # c9 = conv_layer9.Forward_pass(c8)\n",
        "        # c10 = conv_layer10.Forward_pass(c9)\n",
        "        # p4 = pooling4.Forward_pass(c10)\n",
        "        # c11 = conv_layer11.Forward_pass(p4)\n",
        "        # c12 = conv_layer12.Forward_pass(c11)\n",
        "        # c13 = conv_layer13.Forward_pass(c12)\n",
        "        p5 = pooling5.Forward_pass(c5)\n",
        "        r = np.reshape(p5,(200,-1))\n",
        "        #print('The Input after Flattening for MLP {}'.format(r.shape))\n",
        "  \n",
        "        Y_ = neural0.forward(r)\n",
        "\n",
        "        l = loss(y_i,Y_)\n",
        "        training_loss.append(l)\n",
        "\n",
        "        print('Backword Pass')\n",
        "        dn1 = neural0.backward(r,y_i,learning_rate=lr1)\n",
        "        #print(\"Input shape = {} Output shape = {}\".format(r.shape,dn1.shape))\n",
        "\n",
        "        dr = np.reshape(dn1,p5.shape)\n",
        "        dp5 = pooling5.Backward_pass(c5,dr)\n",
        "        dp5[dp5<=0] = 0\n",
        "        # dc13 = conv_layer13.Backward_pass(c12,dp5)\n",
        "        # dc12 = conv_layer13.Backward_pass(c11,dc13)\n",
        "        # dc11 = conv_layer13.Backward_pass(p4,dc12)\n",
        "        # dp4 = pooling4.Backward_pass(c10,dc11)\n",
        "        # dc10 = conv_layer10.Backward_pass(c9,dp4)\n",
        "        # dc9 = conv_layer9.Backward_pass(c8,dc10)\n",
        "        # dc8 = conv_layer8.Backward_pass(p3,dc9)\n",
        "        # dp3 = pooling3.Backward_pass(c7,dc8)\n",
        "        # dc7 = conv_layer7.Backward_pass(c6,dp3)\n",
        "        # dc6 = conv_layer6.Backward_pass(c5,dc7)\n",
        "        dc5 = conv_layer5.Backward_pass(p2,dp5,lr = lr1)\n",
        "        dp2 = pooling2.Backward_pass(c3,dc5)\n",
        "        dp2[dp2<=0] = 0\n",
        "        #dc4 = conv_layer4.Backward_pass(c3,dp2)\n",
        "        dc3 = conv_layer3.Backward_pass(p1,dp2,lr = lr1)\n",
        "        dp1 = pooling1.Backward_pass(c1,dc3)\n",
        "        dp1[dp1<=0] = 0\n",
        "        #dc2 = conv_layer2.Backward_pass(c1,dp1)\n",
        "        dc1 = conv_layer1.Backward_pass(x_i,dp1,lr = lr1)\n",
        "        \n",
        "        if(logs):\n",
        "            print(\"Epoch %d Loss %.4f\"%(ix,l))\n",
        "        \n",
        "        print('---------------------------------------------------------------------------------------------------')\n",
        "        \n",
        "            \n",
        "    \n",
        "    return training_loss"
      ],
      "execution_count": null,
      "outputs": []
    },
    {
      "cell_type": "code",
      "metadata": {
        "id": "m9OXIEYK6pVN",
        "colab_type": "code",
        "colab": {}
      },
      "source": [
        "def predict(xval,yval,epochs,logs=True):\n",
        "    z = 0\n",
        "    \n",
        "    # classes = 2\n",
        "    # Y_OHT = one_hot(Y,classes)\n",
        "    #print(Y_OHT.shape)\n",
        "\n",
        "    for ix in range(0,epochs):\n",
        "\n",
        "        e = 0\n",
        "        x_i = xval[ix*200:(ix+1)*200,:,:,:]\n",
        "        y_i = yval[ix*200:(ix+1)*200,:]\n",
        "        #print(x_i.shape,y_i.shape)\n",
        "\n",
        "        #print('---------------------------------------------------------------------------------------------------')\n",
        "        #print(\"Forward Pass\")\n",
        "        c1 = conv_layer1.Forward_pass(x_i)\n",
        "        c1[c1<=0] = 0\n",
        "        #c2 = conv_layer2.Forward_pass(c1)\n",
        "        p1 = pooling1.Forward_pass(c1)\n",
        "        c3 = conv_layer3.Forward_pass(p1)\n",
        "        c3[c3<=0] = 0\n",
        "        #c4 = conv_layer4.Forward_pass(c3)\n",
        "        p2 = pooling2.Forward_pass(c3)\n",
        "        c5 = conv_layer5.Forward_pass(p2)\n",
        "        c5[c5<=0] = 0\n",
        "        # c6 = conv_layer6.Forward_pass(c5)\n",
        "        # c7 = conv_layer7.Forward_pass(c6)\n",
        "        # p3 = pooling3.Forward_pass(c7)\n",
        "        # c8 = conv_layer8.Forward_pass(p3)\n",
        "        # c9 = conv_layer9.Forward_pass(c8)\n",
        "        # c10 = conv_layer10.Forward_pass(c9)\n",
        "        # p4 = pooling4.Forward_pass(c10)\n",
        "        # c11 = conv_layer11.Forward_pass(p4)\n",
        "        # c12 = conv_layer12.Forward_pass(c11)\n",
        "        # c13 = conv_layer13.Forward_pass(c12)\n",
        "        p5 = pooling5.Forward_pass(c5)\n",
        "        r = np.reshape(p5,(200,-1))\n",
        "        #print('The Input after Flattening for MLP {}'.format(r.shape))\n",
        "\n",
        "        Y_ = neural0.predict(r)\n",
        "        Y_ = np.reshape(Y_,(200,1))\n",
        "        #print(Y_.shape,y_i.shape)\n",
        "        e = np.sum(Y_ == y_i)\n",
        "        z = z + e\n",
        "        #print(e/100)\n",
        "        #print(z)\n",
        "\n",
        "    return z/6000"
      ],
      "execution_count": null,
      "outputs": []
    },
    {
      "cell_type": "code",
      "metadata": {
        "id": "W9Xj2p3_6eDI",
        "colab_type": "code",
        "colab": {
          "base_uri": "https://localhost:8080/",
          "height": 1000
        },
        "outputId": "34016c87-1eb0-4222-906f-b6d1970daf6e"
      },
      "source": [
        "l_o_s_s = train(X,Y,30)"
      ],
      "execution_count": null,
      "outputs": [
        {
          "output_type": "stream",
          "text": [
            "Forward Pass\n",
            "Input shape = (200, 1, 28, 28) Filter shape = (32, 1, 3, 3) Output shape = (200, 32, 28, 28)\n",
            "Input shape = (200, 32, 28, 28) Output shape = (200, 32, 14, 14)\n",
            "Input shape = (200, 32, 14, 14) Filter shape = (32, 32, 3, 3) Output shape = (200, 32, 14, 14)\n",
            "Input shape = (200, 32, 14, 14) Output shape = (200, 32, 7, 7)\n",
            "Input shape = (200, 32, 7, 7) Filter shape = (64, 32, 3, 3) Output shape = (200, 64, 7, 7)\n",
            "Input shape = (200, 64, 7, 7) Output shape = (200, 64, 3, 3)\n",
            "Backword Pass\n",
            "Epoch 0 Loss 12.2275\n",
            "---------------------------------------------------------------------------------------------------\n",
            "Forward Pass\n",
            "Backword Pass\n",
            "Epoch 1 Loss 12.2354\n",
            "---------------------------------------------------------------------------------------------------\n",
            "Forward Pass\n",
            "Backword Pass\n",
            "Epoch 2 Loss 4.6849\n",
            "---------------------------------------------------------------------------------------------------\n",
            "Forward Pass\n",
            "Backword Pass\n",
            "Epoch 3 Loss 10.8119\n",
            "---------------------------------------------------------------------------------------------------\n",
            "Forward Pass\n",
            "Backword Pass\n",
            "Epoch 4 Loss 9.3794\n",
            "---------------------------------------------------------------------------------------------------\n",
            "Forward Pass\n",
            "Backword Pass\n",
            "Epoch 5 Loss 5.5948\n",
            "---------------------------------------------------------------------------------------------------\n",
            "Forward Pass\n",
            "Backword Pass\n",
            "Epoch 6 Loss 4.4268\n",
            "---------------------------------------------------------------------------------------------------\n",
            "Forward Pass\n",
            "Backword Pass\n",
            "Epoch 7 Loss 3.5641\n",
            "---------------------------------------------------------------------------------------------------\n",
            "Forward Pass\n",
            "Backword Pass\n",
            "Epoch 8 Loss 2.8862\n",
            "---------------------------------------------------------------------------------------------------\n",
            "Forward Pass\n",
            "Backword Pass\n",
            "Epoch 9 Loss 2.4763\n",
            "---------------------------------------------------------------------------------------------------\n",
            "Forward Pass\n",
            "Backword Pass\n",
            "Epoch 10 Loss 2.3199\n",
            "---------------------------------------------------------------------------------------------------\n",
            "Forward Pass\n",
            "Backword Pass\n",
            "Epoch 11 Loss 2.3037\n",
            "---------------------------------------------------------------------------------------------------\n",
            "Forward Pass\n",
            "Backword Pass\n",
            "Epoch 12 Loss 2.3027\n",
            "---------------------------------------------------------------------------------------------------\n",
            "Forward Pass\n",
            "Backword Pass\n",
            "Epoch 13 Loss 2.3026\n",
            "---------------------------------------------------------------------------------------------------\n",
            "Forward Pass\n",
            "Backword Pass\n",
            "Epoch 14 Loss 2.3026\n",
            "---------------------------------------------------------------------------------------------------\n",
            "Forward Pass\n",
            "Backword Pass\n",
            "Epoch 15 Loss 2.3026\n",
            "---------------------------------------------------------------------------------------------------\n",
            "Forward Pass\n",
            "Backword Pass\n",
            "Epoch 16 Loss 2.3026\n",
            "---------------------------------------------------------------------------------------------------\n",
            "Forward Pass\n",
            "Backword Pass\n",
            "Epoch 17 Loss 2.3026\n",
            "---------------------------------------------------------------------------------------------------\n",
            "Forward Pass\n",
            "Backword Pass\n"
          ],
          "name": "stdout"
        },
        {
          "output_type": "error",
          "ename": "KeyboardInterrupt",
          "evalue": "ignored",
          "traceback": [
            "\u001b[0;31m---------------------------------------------------------------------------\u001b[0m",
            "\u001b[0;31mKeyboardInterrupt\u001b[0m                         Traceback (most recent call last)",
            "\u001b[0;32m<ipython-input-17-6fce0c3427fe>\u001b[0m in \u001b[0;36m<module>\u001b[0;34m()\u001b[0m\n\u001b[0;32m----> 1\u001b[0;31m \u001b[0ml_o_s_s\u001b[0m \u001b[0;34m=\u001b[0m \u001b[0mtrain\u001b[0m\u001b[0;34m(\u001b[0m\u001b[0mX\u001b[0m\u001b[0;34m,\u001b[0m\u001b[0mY\u001b[0m\u001b[0;34m,\u001b[0m\u001b[0;36m30\u001b[0m\u001b[0;34m)\u001b[0m\u001b[0;34m\u001b[0m\u001b[0;34m\u001b[0m\u001b[0m\n\u001b[0m",
            "\u001b[0;32m<ipython-input-15-bd9ada50b582>\u001b[0m in \u001b[0;36mtrain\u001b[0;34m(X, Y, epochs, lr1, logs)\u001b[0m\n\u001b[1;32m     65\u001b[0m         \u001b[0;31m#dc4 = conv_layer4.Backward_pass(c3,dp2)\u001b[0m\u001b[0;34m\u001b[0m\u001b[0;34m\u001b[0m\u001b[0;34m\u001b[0m\u001b[0m\n\u001b[1;32m     66\u001b[0m         \u001b[0mdc3\u001b[0m \u001b[0;34m=\u001b[0m \u001b[0mconv_layer3\u001b[0m\u001b[0;34m.\u001b[0m\u001b[0mBackward_pass\u001b[0m\u001b[0;34m(\u001b[0m\u001b[0mp1\u001b[0m\u001b[0;34m,\u001b[0m\u001b[0mdp2\u001b[0m\u001b[0;34m,\u001b[0m\u001b[0mlr\u001b[0m \u001b[0;34m=\u001b[0m \u001b[0mlr1\u001b[0m\u001b[0;34m)\u001b[0m\u001b[0;34m\u001b[0m\u001b[0;34m\u001b[0m\u001b[0m\n\u001b[0;32m---> 67\u001b[0;31m         \u001b[0mdp1\u001b[0m \u001b[0;34m=\u001b[0m \u001b[0mpooling1\u001b[0m\u001b[0;34m.\u001b[0m\u001b[0mBackward_pass\u001b[0m\u001b[0;34m(\u001b[0m\u001b[0mc1\u001b[0m\u001b[0;34m,\u001b[0m\u001b[0mdc3\u001b[0m\u001b[0;34m)\u001b[0m\u001b[0;34m\u001b[0m\u001b[0;34m\u001b[0m\u001b[0m\n\u001b[0m\u001b[1;32m     68\u001b[0m         \u001b[0mdp1\u001b[0m\u001b[0;34m[\u001b[0m\u001b[0mdp1\u001b[0m\u001b[0;34m<=\u001b[0m\u001b[0;36m0\u001b[0m\u001b[0;34m]\u001b[0m \u001b[0;34m=\u001b[0m \u001b[0;36m0\u001b[0m\u001b[0;34m\u001b[0m\u001b[0;34m\u001b[0m\u001b[0m\n\u001b[1;32m     69\u001b[0m         \u001b[0;31m#dc2 = conv_layer2.Backward_pass(c1,dp1)\u001b[0m\u001b[0;34m\u001b[0m\u001b[0;34m\u001b[0m\u001b[0;34m\u001b[0m\u001b[0m\n",
            "\u001b[0;32m/content/max_pool.py\u001b[0m in \u001b[0;36mBackward_pass\u001b[0;34m(self, input_X, dl_do)\u001b[0m\n\u001b[1;32m     72\u001b[0m                             \u001b[0mimg_\u001b[0m \u001b[0;34m=\u001b[0m \u001b[0mimg\u001b[0m\u001b[0;34m[\u001b[0m\u001b[0mchannel\u001b[0m\u001b[0;34m,\u001b[0m\u001b[0;34m(\u001b[0m\u001b[0mheight\u001b[0m\u001b[0;34m*\u001b[0m\u001b[0mstride\u001b[0m\u001b[0;34m)\u001b[0m\u001b[0;34m:\u001b[0m\u001b[0;34m(\u001b[0m\u001b[0mheight\u001b[0m\u001b[0;34m*\u001b[0m\u001b[0mstride\u001b[0m\u001b[0;34m)\u001b[0m\u001b[0;34m+\u001b[0m\u001b[0mf\u001b[0m\u001b[0;34m,\u001b[0m\u001b[0;34m(\u001b[0m\u001b[0mwidth\u001b[0m\u001b[0;34m*\u001b[0m\u001b[0mstride\u001b[0m\u001b[0;34m)\u001b[0m\u001b[0;34m:\u001b[0m\u001b[0;34m(\u001b[0m\u001b[0mwidth\u001b[0m\u001b[0;34m*\u001b[0m\u001b[0mstride\u001b[0m\u001b[0;34m)\u001b[0m\u001b[0;34m+\u001b[0m\u001b[0mf\u001b[0m\u001b[0;34m]\u001b[0m\u001b[0;34m\u001b[0m\u001b[0;34m\u001b[0m\u001b[0m\n\u001b[1;32m     73\u001b[0m                             \u001b[0mmask\u001b[0m \u001b[0;34m=\u001b[0m \u001b[0mimg_\u001b[0m \u001b[0;34m==\u001b[0m \u001b[0mnp\u001b[0m\u001b[0;34m.\u001b[0m\u001b[0mmax\u001b[0m\u001b[0;34m(\u001b[0m\u001b[0mimg_\u001b[0m\u001b[0;34m)\u001b[0m\u001b[0;34m\u001b[0m\u001b[0;34m\u001b[0m\u001b[0m\n\u001b[0;32m---> 74\u001b[0;31m                             \u001b[0mdx\u001b[0m\u001b[0;34m[\u001b[0m\u001b[0mi\u001b[0m\u001b[0;34m,\u001b[0m\u001b[0mchannel\u001b[0m\u001b[0;34m,\u001b[0m\u001b[0;34m(\u001b[0m\u001b[0mheight\u001b[0m\u001b[0;34m*\u001b[0m\u001b[0mstride\u001b[0m\u001b[0;34m)\u001b[0m\u001b[0;34m:\u001b[0m\u001b[0;34m(\u001b[0m\u001b[0mheight\u001b[0m\u001b[0;34m*\u001b[0m\u001b[0mstride\u001b[0m\u001b[0;34m)\u001b[0m\u001b[0;34m+\u001b[0m\u001b[0mf\u001b[0m\u001b[0;34m,\u001b[0m\u001b[0;34m(\u001b[0m\u001b[0mwidth\u001b[0m\u001b[0;34m*\u001b[0m\u001b[0mstride\u001b[0m\u001b[0;34m)\u001b[0m\u001b[0;34m:\u001b[0m\u001b[0;34m(\u001b[0m\u001b[0mwidth\u001b[0m\u001b[0;34m*\u001b[0m\u001b[0mstride\u001b[0m\u001b[0;34m)\u001b[0m\u001b[0;34m+\u001b[0m\u001b[0mf\u001b[0m\u001b[0;34m]\u001b[0m \u001b[0;34m+=\u001b[0m \u001b[0mnp\u001b[0m\u001b[0;34m.\u001b[0m\u001b[0mmultiply\u001b[0m\u001b[0;34m(\u001b[0m\u001b[0mmask\u001b[0m\u001b[0;34m,\u001b[0m \u001b[0mdl_do\u001b[0m\u001b[0;34m[\u001b[0m\u001b[0mi\u001b[0m\u001b[0;34m,\u001b[0m\u001b[0mchannel\u001b[0m\u001b[0;34m,\u001b[0m \u001b[0mheight\u001b[0m\u001b[0;34m,\u001b[0m \u001b[0mwidth\u001b[0m\u001b[0;34m]\u001b[0m\u001b[0;34m)\u001b[0m\u001b[0;34m\u001b[0m\u001b[0;34m\u001b[0m\u001b[0m\n\u001b[0m\u001b[1;32m     75\u001b[0m \u001b[0;34m\u001b[0m\u001b[0m\n\u001b[1;32m     76\u001b[0m                         \u001b[0;32melif\u001b[0m \u001b[0mmode\u001b[0m \u001b[0;34m==\u001b[0m \u001b[0;34m'average'\u001b[0m\u001b[0;34m:\u001b[0m\u001b[0;34m\u001b[0m\u001b[0;34m\u001b[0m\u001b[0m\n",
            "\u001b[0;31mKeyboardInterrupt\u001b[0m: "
          ]
        }
      ]
    },
    {
      "cell_type": "code",
      "metadata": {
        "id": "76N-XDCf97XU",
        "colab_type": "code",
        "colab": {
          "base_uri": "https://localhost:8080/",
          "height": 279
        },
        "outputId": "f9a3c8d4-127b-4410-e26b-619ad54ab54b"
      },
      "source": [
        "import matplotlib.pyplot as plt\n",
        "plt.plot(l_o_s_s)\n",
        "plt.xlabel(\"Epoch\")\n",
        "plt.ylabel(\"Loss\")\n",
        "plt.show()"
      ],
      "execution_count": null,
      "outputs": [
        {
          "output_type": "display_data",
          "data": {
            "image/png": "[encoded data removed]",
            "text/plain": [
              "<Figure size 432x288 with 1 Axes>"
            ]
          },
          "metadata": {
            "tags": [],
            "needs_background": "light"
          }
        }
      ]
    },
    {
      "cell_type": "code",
      "metadata": {
        "id": "j2TrIU5dCpEY",
        "colab_type": "code",
        "colab": {
          "base_uri": "https://localhost:8080/",
          "height": 34
        },
        "outputId": "12620150-ca11-4585-eb25-b0e80e31feea"
      },
      "source": [
        "s = predict(X,Y,30)\n",
        "print(s)"
      ],
      "execution_count": null,
      "outputs": [
        {
          "output_type": "stream",
          "text": [
            "0.1025\n"
          ],
          "name": "stdout"
        }
      ]
    },
    {
      "cell_type": "code",
      "metadata": {
        "id": "K78TXzYSKTC9",
        "colab_type": "code",
        "colab": {}
      },
      "source": [
        "s = predict(x_val1,y_val1,30)\n",
        "print(s)"
      ],
      "execution_count": null,
      "outputs": []
    },
    {
      "cell_type": "code",
      "metadata": {
        "id": "JvfnZET2Kfwk",
        "colab_type": "code",
        "colab": {
          "base_uri": "https://localhost:8080/",
          "height": 1000
        },
        "outputId": "579aa062-80fc-4e32-a5b0-a8640564d920"
      },
      "source": [
        "l_o_s_s1 = train(X,Y,30)"
      ],
      "execution_count": null,
      "outputs": [
        {
          "output_type": "stream",
          "text": [
            "Forward Pass\n",
            "Backword Pass\n",
            "Epoch 0 Loss 2.3026\n",
            "---------------------------------------------------------------------------------------------------\n",
            "Forward Pass\n",
            "Backword Pass\n",
            "Epoch 1 Loss 2.3026\n",
            "---------------------------------------------------------------------------------------------------\n",
            "Forward Pass\n",
            "Backword Pass\n",
            "Epoch 2 Loss 2.3026\n",
            "---------------------------------------------------------------------------------------------------\n",
            "Forward Pass\n",
            "Backword Pass\n",
            "Epoch 3 Loss 2.3026\n",
            "---------------------------------------------------------------------------------------------------\n",
            "Forward Pass\n",
            "Backword Pass\n",
            "Epoch 4 Loss 2.3026\n",
            "---------------------------------------------------------------------------------------------------\n",
            "Forward Pass\n",
            "Backword Pass\n",
            "Epoch 5 Loss 2.3026\n",
            "---------------------------------------------------------------------------------------------------\n",
            "Forward Pass\n",
            "Backword Pass\n",
            "Epoch 6 Loss 2.3026\n",
            "---------------------------------------------------------------------------------------------------\n",
            "Forward Pass\n",
            "Backword Pass\n",
            "Epoch 7 Loss 2.3026\n",
            "---------------------------------------------------------------------------------------------------\n",
            "Forward Pass\n",
            "Backword Pass\n",
            "Epoch 8 Loss 2.3026\n",
            "---------------------------------------------------------------------------------------------------\n",
            "Forward Pass\n",
            "Backword Pass\n",
            "Epoch 9 Loss 2.3026\n",
            "---------------------------------------------------------------------------------------------------\n",
            "Forward Pass\n",
            "Backword Pass\n",
            "Epoch 10 Loss 2.3026\n",
            "---------------------------------------------------------------------------------------------------\n",
            "Forward Pass\n",
            "Backword Pass\n",
            "Epoch 11 Loss 2.3026\n",
            "---------------------------------------------------------------------------------------------------\n",
            "Forward Pass\n",
            "Backword Pass\n",
            "Epoch 12 Loss 2.3026\n",
            "---------------------------------------------------------------------------------------------------\n",
            "Forward Pass\n",
            "Backword Pass\n",
            "Epoch 13 Loss 2.3026\n",
            "---------------------------------------------------------------------------------------------------\n",
            "Forward Pass\n",
            "Backword Pass\n",
            "Epoch 14 Loss 2.3026\n",
            "---------------------------------------------------------------------------------------------------\n",
            "Forward Pass\n",
            "Backword Pass\n",
            "Epoch 15 Loss 2.3026\n",
            "---------------------------------------------------------------------------------------------------\n",
            "Forward Pass\n",
            "Backword Pass\n",
            "Epoch 16 Loss 2.3026\n",
            "---------------------------------------------------------------------------------------------------\n",
            "Forward Pass\n",
            "Backword Pass\n",
            "Epoch 17 Loss 2.3026\n",
            "---------------------------------------------------------------------------------------------------\n",
            "Forward Pass\n",
            "Backword Pass\n",
            "Epoch 18 Loss 2.3026\n",
            "---------------------------------------------------------------------------------------------------\n",
            "Forward Pass\n",
            "Backword Pass\n",
            "Epoch 19 Loss 2.3026\n",
            "---------------------------------------------------------------------------------------------------\n",
            "Forward Pass\n",
            "Backword Pass\n",
            "Epoch 20 Loss 2.3026\n",
            "---------------------------------------------------------------------------------------------------\n",
            "Forward Pass\n",
            "Backword Pass\n",
            "Epoch 21 Loss 2.3026\n",
            "---------------------------------------------------------------------------------------------------\n",
            "Forward Pass\n",
            "Backword Pass\n",
            "Epoch 22 Loss 2.3026\n",
            "---------------------------------------------------------------------------------------------------\n",
            "Forward Pass\n",
            "Backword Pass\n",
            "Epoch 23 Loss 2.3026\n",
            "---------------------------------------------------------------------------------------------------\n",
            "Forward Pass\n",
            "Backword Pass\n",
            "Epoch 24 Loss 2.3026\n",
            "---------------------------------------------------------------------------------------------------\n",
            "Forward Pass\n",
            "Backword Pass\n",
            "Epoch 25 Loss 2.3026\n",
            "---------------------------------------------------------------------------------------------------\n",
            "Forward Pass\n",
            "Backword Pass\n",
            "Epoch 26 Loss 2.3026\n",
            "---------------------------------------------------------------------------------------------------\n",
            "Forward Pass\n",
            "Backword Pass\n",
            "Epoch 27 Loss 2.3026\n",
            "---------------------------------------------------------------------------------------------------\n",
            "Forward Pass\n",
            "Backword Pass\n",
            "Epoch 28 Loss 2.3026\n",
            "---------------------------------------------------------------------------------------------------\n",
            "Forward Pass\n",
            "Backword Pass\n",
            "Epoch 29 Loss 2.3026\n",
            "---------------------------------------------------------------------------------------------------\n"
          ],
          "name": "stdout"
        }
      ]
    },
    {
      "cell_type": "code",
      "metadata": {
        "id": "jPP71gEvKl7x",
        "colab_type": "code",
        "colab": {
          "base_uri": "https://localhost:8080/",
          "height": 290
        },
        "outputId": "660ce1d3-1420-40b1-d76e-3ec07970e089"
      },
      "source": [
        "import matplotlib.pyplot as plt\n",
        "plt.plot(l_o_s_s1)\n",
        "plt.xlabel(\"Epoch\")\n",
        "plt.ylabel(\"Loss\")\n",
        "plt.show()"
      ],
      "execution_count": null,
      "outputs": [
        {
          "output_type": "display_data",
          "data": {
            "image/png": "[encoded data removed]",
            "text/plain": [
              "<Figure size 432x288 with 1 Axes>"
            ]
          },
          "metadata": {
            "tags": [],
            "needs_background": "light"
          }
        }
      ]
    },
    {
      "cell_type": "code",
      "metadata": {
        "id": "fl4dlQtfKl4K",
        "colab_type": "code",
        "colab": {
          "base_uri": "https://localhost:8080/",
          "height": 34
        },
        "outputId": "0599c986-9f3b-45b1-c7c1-bd78b867f4e7"
      },
      "source": [
        "s = predict(X,Y,30)\n",
        "print(s)"
      ],
      "execution_count": null,
      "outputs": [
        {
          "output_type": "stream",
          "text": [
            "0.09733333333333333\n"
          ],
          "name": "stdout"
        }
      ]
    },
    {
      "cell_type": "code",
      "metadata": {
        "id": "8YrwcuUgKqTS",
        "colab_type": "code",
        "colab": {
          "base_uri": "https://localhost:8080/",
          "height": 34
        },
        "outputId": "cb6cae76-4b9e-4a9c-b002-c06c2b0cda90"
      },
      "source": [
        "s = predict(x_val1,y_val1,30)\n",
        "print(s)"
      ],
      "execution_count": null,
      "outputs": [
        {
          "output_type": "stream",
          "text": [
            "0.09116666666666666\n"
          ],
          "name": "stdout"
        }
      ]
    },
    {
      "cell_type": "code",
      "metadata": {
        "id": "Zf43c-PNKxNi",
        "colab_type": "code",
        "colab": {}
      },
      "source": [
        "conv_layer1 = CNN(n_f = 32 , f = 3 , stride = 1 , padding = 'same')\n",
        "#conv_layer2 = CNN(n_f = 64 , f = 3 , stride = 1 , padding = 'same')\n",
        "pooling1 = max_pool(f=2,mode = \"max\",stride=2)\n",
        "conv_layer3 = CNN(n_f = 32 , f = 3 , stride = 1 , padding = 'same')\n",
        "#conv_layer4 = CNN(n_f = 128 , f = 3 , stride = 1 , padding = 'same')\n",
        "pooling2 = max_pool(f=2,mode = \"max\",stride=2)\n",
        "conv_layer5 = CNN(n_f = 64 , f = 3 , stride = 1 , padding = 'same')\n",
        "# conv_layer6 = CNN(n_f = 64 , f = 3 , stride = 1 , padding = 'same')\n",
        "# conv_layer7 = CNN(n_f = 64 , f = 3 , stride = 1 , padding = 'same')\n",
        "# pooling3 = max_pool(f=2,mode = \"max\",stride=2)\n",
        "# conv_layer8 = CNN(n_f = 128 , f = 3 , stride = 1 , padding = 'same')\n",
        "# conv_layer9 = CNN(n_f = 128 , f = 3 , stride = 1 , padding = 'same')\n",
        "# conv_layer10 = CNN(n_f = 128 , f = 3 , stride = 1 , padding = 'same')\n",
        "# pooling4 = max_pool(f=2,mode = \"max\",stride=2)\n",
        "# conv_layer11 = CNN(n_f = 128 , f = 3 , stride = 1 , padding = 'same')\n",
        "# conv_layer12 = CNN(n_f = 128 , f = 3 , stride = 1 , padding = 'same')\n",
        "# conv_layer13 = CNN(n_f = 128 , f = 3 , stride = 1 , padding = 'same')\n",
        "pooling5 = max_pool(f=2,mode = \"max\",stride=2)\n",
        "neural0 = NeuralNetwork(input_size = 576,layers = (128,64) ,output_size = 10)"
      ],
      "execution_count": null,
      "outputs": []
    },
    {
      "cell_type": "code",
      "metadata": {
        "id": "Wbw3tMaRNzNQ",
        "colab_type": "code",
        "colab": {
          "base_uri": "https://localhost:8080/",
          "height": 136
        },
        "outputId": "e145b615-b2d0-4b37-bf0e-1a6a660e5bb9"
      },
      "source": [
        "s = predict(X,Y,30)\n",
        "print(s)"
      ],
      "execution_count": null,
      "outputs": [
        {
          "output_type": "stream",
          "text": [
            "Input shape = (200, 28, 28, 1) Filter shape = (3, 3, 1, 32) Output shape = (200, 28, 28, 32)\n",
            "Input shape = (200, 28, 28, 32) Output shape = (200, 14, 14, 32)\n",
            "Input shape = (200, 14, 14, 32) Filter shape = (3, 3, 32, 32) Output shape = (200, 14, 14, 32)\n",
            "Input shape = (200, 14, 14, 32) Output shape = (200, 7, 7, 32)\n",
            "Input shape = (200, 7, 7, 32) Filter shape = (3, 3, 32, 64) Output shape = (200, 7, 7, 64)\n",
            "Input shape = (200, 7, 7, 64) Output shape = (200, 3, 3, 64)\n",
            "0.09783333333333333\n"
          ],
          "name": "stdout"
        }
      ]
    },
    {
      "cell_type": "code",
      "metadata": {
        "id": "_7_N891sQKaA",
        "colab_type": "code",
        "colab": {}
      },
      "source": [
        ""
      ],
      "execution_count": null,
      "outputs": []
    }
  ]
}