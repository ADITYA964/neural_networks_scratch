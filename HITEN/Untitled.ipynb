{
 "cells": [
  {
   "cell_type": "code",
   "execution_count": 1,
   "metadata": {},
   "outputs": [],
   "source": [
    "import numpy as np"
   ]
  },
  {
   "cell_type": "code",
   "execution_count": 244,
   "metadata": {},
   "outputs": [],
   "source": [
    "def softmax(a):\n",
    "    e_pa = np.exp(a) #Vector\n",
    "    ans = e_pa/np.sum(e_pa,axis=1,keepdims=True)\n",
    "    return ans"
   ]
  },
  {
   "cell_type": "code",
   "execution_count": 386,
   "metadata": {},
   "outputs": [],
   "source": [
    "class CNN:\n",
    "    \n",
    "    def __init__(self , n_f , filter_F = 3 , stride = 1 , padding = 'valid'):\n",
    "        \n",
    "        self.filter = None\n",
    "        self.padding = padding\n",
    "        self.stride = stride\n",
    "        self.n_f = n_f\n",
    "        self.filter_F = filter_F\n",
    "    \n",
    "    def Forward_pass(self,input_X):\n",
    "        \n",
    "        padding = self.padding\n",
    "        stride = self.stride\n",
    "        n_f = self.n_f \n",
    "        filter_F = self.filter_F\n",
    "    \n",
    "        m = input_X.shape[0]\n",
    "        f = filter_F\n",
    "        filt = np.random.normal(size=(n_f,f,f))\n",
    "        \n",
    "        if(padding == 'same'):\n",
    "            p = int((m*(stride - 1) - stride + f)/2)\n",
    "\n",
    "            input_X = np.pad(input_X , ((p,p),(p,p),(0,0)))\n",
    "        else: p=0\n",
    "\n",
    "        o_m = int(((m-f+2*p)/stride) + 1)\n",
    "        m = input_X.shape[0]\n",
    "\n",
    "        output_X = np.zeros((n_f,o_m,o_m))\n",
    "        i=0\n",
    "        j=0\n",
    "\n",
    "        for k in range(n_f):\n",
    "            dummy = np.zeros((3,filt[k].shape[0],filt[k].shape[1]))\n",
    "            dummy[0] = filt[k]\n",
    "            dummy[1] = filt[k]\n",
    "            dummy[2] = filt[k]\n",
    "            dummy = np.moveaxis(dummy,0,-1)\n",
    "            for row in range(0,o_m,stride):\n",
    "                for col in range(0,o_m,stride):\n",
    "                    img = input_X[row:row+f,col:col+f,:]\n",
    "                    output_X[k][i][j] = np.sum(np.multiply(img,dummy))\n",
    "\n",
    "#                     if output_X[k][i][j]>255:\n",
    "#                         output_X[k][i][j] = 255\n",
    "#                     elif output_X[k][i][j]<0:\n",
    "#                         output_X[k][i][j] = 0\n",
    "\n",
    "                    j = j+1\n",
    "\n",
    "                i = i+1\n",
    "                j = 0\n",
    "            i = 0\n",
    "            \n",
    "        self.filter = filt\n",
    "        \n",
    "        print(input_X.shape,filt.shape,output_X.shape)\n",
    "        return output_X\n",
    "    \n",
    "    \n",
    "    def Backward_pass(self,dl_do,input_X):\n",
    "        \n",
    "        filt = self.filter\n",
    "        padding = self.padding\n",
    "        stride = self.stride\n",
    "        n_f = self.n_f \n",
    "        filter_F = self.filter_F\n",
    "        \n",
    "        m = input_X.shape[0]\n",
    "        f = dl_do.shape[1]\n",
    "        \n",
    "        if(self.padding == 'same'):\n",
    "            p = int((m*(stride - 1) - stride + f)/2)\n",
    "\n",
    "            input_X = np.pad(input_X , ((p,p),(p,p),(0,0)))\n",
    "        else: p=0\n",
    "\n",
    "        o_m = int(((m-f+2*p)/stride) + 1)\n",
    "        m = input_X.shape[0]\n",
    "\n",
    "        dl_df = np.zeros(filt.shape)\n",
    "        i=0\n",
    "        j=0\n",
    "\n",
    "        for k in range(n_f):\n",
    "            dummy = np.zeros((3,dl_do[k].shape[0],dl_do[k].shape[1]))\n",
    "            dummy[0] = dl_do[k]\n",
    "            dummy[1] = dl_do[k]\n",
    "            dummy[2] = dl_do[k]\n",
    "            dummy = np.moveaxis(dummy,0,-1)\n",
    "            for row in range(0,o_m,stride):\n",
    "                for col in range(0,o_m,stride):\n",
    "                    img = input_X[row:row+f,col:col+f,:]\n",
    "                    dl_df[k][i][j] = np.sum(np.multiply(img,dummy))\n",
    "\n",
    "#                     if dl_df[k][i][j]>255:\n",
    "#                         dl_df[k][i][j] = 255\n",
    "#                     elif dl_df[k][i][j]<0:\n",
    "#                         dl_df[k][i][j] = 0\n",
    "\n",
    "                    j = j+1\n",
    "\n",
    "                i = i+1\n",
    "                j = 0\n",
    "            i = 0\n",
    "\n",
    "\n",
    "        rot_filt = np.flip(np.flip(filt,axis=0),axis=1)\n",
    "\n",
    "        print(dl_do.shape,dl_df.shape,input_X.shape)\n",
    "        return dl_df\n",
    "    "
   ]
  },
  {
   "cell_type": "code",
   "execution_count": 387,
   "metadata": {},
   "outputs": [],
   "source": [
    "x = np.random.randn(3,10,10)\n",
    "x = np.moveaxis(x,0,-1)"
   ]
  },
  {
   "cell_type": "code",
   "execution_count": 388,
   "metadata": {},
   "outputs": [
    {
     "name": "stdout",
     "output_type": "stream",
     "text": [
      "(10, 10, 3) (16, 3, 3) (16, 8, 8)\n"
     ]
    }
   ],
   "source": [
    "f = 3\n",
    "n_f = 16\n",
    "model = CNN(n_f=n_f,filter_F=f,padding='valid')\n",
    "o = model.Forward_pass(input_X=x)"
   ]
  },
  {
   "cell_type": "code",
   "execution_count": 389,
   "metadata": {},
   "outputs": [
    {
     "name": "stdout",
     "output_type": "stream",
     "text": [
      "(16, 8, 8) (16, 3, 3) (10, 10, 3)\n"
     ]
    }
   ],
   "source": [
    "oo = model.Backward_pass(input_X=x,dl_do=o)"
   ]
  },
  {
   "cell_type": "code",
   "execution_count": 411,
   "metadata": {},
   "outputs": [],
   "source": [
    "#print(oo)"
   ]
  },
  {
   "cell_type": "code",
   "execution_count": 240,
   "metadata": {},
   "outputs": [
    {
     "data": {
      "text/plain": [
       "(128, 222, 222)"
      ]
     },
     "execution_count": 240,
     "metadata": {},
     "output_type": "execute_result"
    }
   ],
   "source": [
    "o.shape"
   ]
  },
  {
   "cell_type": "code",
   "execution_count": 391,
   "metadata": {},
   "outputs": [],
   "source": [
    "import cv2\n",
    "img_ = cv2.imread('./296.jpg')\n",
    "img_ = cv2.resize(img_,(100,100))\n",
    "img_ = cv2.cvtColor(img_,cv2.COLOR_BGR2RGB)\n",
    "#img_ = cv2.cvtColor(img_,cv2.COLOR_RGB2GRAY)"
   ]
  },
  {
   "cell_type": "code",
   "execution_count": 402,
   "metadata": {},
   "outputs": [
    {
     "name": "stdout",
     "output_type": "stream",
     "text": [
      "(100, 100, 3) (32, 3, 3) (32, 98, 98)\n"
     ]
    }
   ],
   "source": [
    "f = 3\n",
    "n_f = 32\n",
    "model = CNN(n_f=n_f,filter_F=f,padding='valid')\n",
    "o = model.Forward_pass(input_X=img_)"
   ]
  },
  {
   "cell_type": "code",
   "execution_count": 414,
   "metadata": {},
   "outputs": [
    {
     "data": {
      "text/plain": [
       "<matplotlib.image.AxesImage at 0x20c40a0fe08>"
      ]
     },
     "execution_count": 414,
     "metadata": {},
     "output_type": "execute_result"
    },
    {
     "data": {
      "image/png": "[encoded data removed]",
      "text/plain": [
       "<Figure size 432x288 with 1 Axes>"
      ]
     },
     "metadata": {
      "needs_background": "light"
     },
     "output_type": "display_data"
    }
   ],
   "source": [
    "plt.imshow(o[31],cmap='gray')"
   ]
  },
  {
   "cell_type": "code",
   "execution_count": null,
   "metadata": {},
   "outputs": [],
   "source": []
  }
 ],
 "metadata": {
  "kernelspec": {
   "display_name": "Python 3",
   "language": "python",
   "name": "python3"
  },
  "language_info": {
   "codemirror_mode": {
    "name": "ipython",
    "version": 3
   },
   "file_extension": ".py",
   "mimetype": "text/x-python",
   "name": "python",
   "nbconvert_exporter": "python",
   "pygments_lexer": "ipython3",
   "version": "3.7.7"
  }
 },
 "nbformat": 4,
 "nbformat_minor": 4
}
