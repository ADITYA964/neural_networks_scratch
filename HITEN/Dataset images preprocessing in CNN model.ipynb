{
  "nbformat": 4,
  "nbformat_minor": 0,
  "metadata": {
    "colab": {
      "name": "Untitled92.ipynb",
      "provenance": [],
      "collapsed_sections": []
    },
    "kernelspec": {
      "name": "python3",
      "display_name": "Python 3"
    }
  },
  "cells": [
    {
      "cell_type": "code",
      "metadata": {
        "id": "eLYQ6Wx83YhQ",
        "colab_type": "code",
        "colab": {}
      },
      "source": [
        "import numpy as np\n",
        "import matplotlib.pyplot as plt\n"
      ],
      "execution_count": 264,
      "outputs": []
    },
    {
      "cell_type": "code",
      "metadata": {
        "id": "HTH83UqP3k0M",
        "colab_type": "code",
        "colab": {}
      },
      "source": [
        "import CNN\n",
        "import max_pool"
      ],
      "execution_count": 2,
      "outputs": []
    },
    {
      "cell_type": "code",
      "metadata": {
        "id": "vlscoIkWRgsW",
        "colab_type": "code",
        "colab": {}
      },
      "source": [
        "m= CNN_Model()"
      ],
      "execution_count": 236,
      "outputs": []
    },
    {
      "cell_type": "code",
      "metadata": {
        "id": "qe0vdttVSxaq",
        "colab_type": "code",
        "colab": {}
      },
      "source": [
        "import tensorflow as tf"
      ],
      "execution_count": 238,
      "outputs": []
    },
    {
      "cell_type": "code",
      "metadata": {
        "id": "H-AoJeK-eX1Y",
        "colab_type": "code",
        "colab": {
          "base_uri": "https://localhost:8080/",
          "height": 52
        },
        "outputId": "2439ce87-6fc1-416c-ca7d-112d53e6122e"
      },
      "source": [
        "(x_train, y_train), (x_test, y_test)=tf.keras.datasets.cifar10.load_data()"
      ],
      "execution_count": 239,
      "outputs": [
        {
          "output_type": "stream",
          "text": [
            "Downloading data from https://www.cs.toronto.edu/~kriz/cifar-10-python.tar.gz\n",
            "170500096/170498071 [==============================] - 11s 0us/step\n"
          ],
          "name": "stdout"
        }
      ]
    },
    {
      "cell_type": "code",
      "metadata": {
        "id": "DCTUiVPAq-xf",
        "colab_type": "code",
        "colab": {}
      },
      "source": [
        "import random"
      ],
      "execution_count": 255,
      "outputs": []
    },
    {
      "cell_type": "code",
      "metadata": {
        "id": "F7DziUdkeiw7",
        "colab_type": "code",
        "colab": {}
      },
      "source": [
        "input_image1 = x_train[:1000,:,:,:]"
      ],
      "execution_count": null,
      "outputs": []
    },
    {
      "cell_type": "code",
      "metadata": {
        "id": "6kUIhenreuoj",
        "colab_type": "code",
        "colab": {
          "base_uri": "https://localhost:8080/",
          "height": 34
        },
        "outputId": "7cc1fe70-c711-42cb-f9ff-a899196c6a09"
      },
      "source": [
        "input_image1.shape"
      ],
      "execution_count": 262,
      "outputs": [
        {
          "output_type": "execute_result",
          "data": {
            "text/plain": [
              "(1000, 32, 32, 3)"
            ]
          },
          "metadata": {
            "tags": []
          },
          "execution_count": 262
        }
      ]
    },
    {
      "cell_type": "code",
      "metadata": {
        "id": "Zb4k6yfIeyRq",
        "colab_type": "code",
        "colab": {
          "base_uri": "https://localhost:8080/",
          "height": 194
        },
        "outputId": "79957aa5-47a5-48c1-d49e-1c30ca3af2de"
      },
      "source": [
        "m.train(input_image1)"
      ],
      "execution_count": 263,
      "outputs": [
        {
          "output_type": "stream",
          "text": [
            "Input shape = (1000, 32, 32, 3) Filter shape = (3, 3, 3, 8) Output shape = (1000, 32, 32, 8)\n",
            "Input shape = (1000, 32, 32, 8) Filter shape = (8, 8, 8, 8) Output shape = (1000, 31, 31, 8)\n",
            "Input shape = (1000, 31, 31, 8) Filter shape = (8, 8, 8, 8) Output shape = (1000, 30, 30, 8)\n",
            "Input shape = (1000, 30, 30, 8) Output shape = (1000, 15, 15, 8)\n",
            "Input shape = (1000, 15, 15, 8) Filter shape = (8, 8, 8, 8) Output shape = (1000, 14, 14, 8)\n",
            "Backprop input = (1000, 14, 14, 8)  Backprop output = (1000, 15, 15, 8)\n",
            "Backprop input = (1000, 15, 15, 8)  Backprop output = (1000, 30, 30, 8)\n",
            "Backprop input = (1000, 30, 30, 8)  Backprop output = (1000, 31, 31, 8)\n",
            "Backprop input = (1000, 31, 31, 8)  Backprop output = (1000, 32, 32, 8)\n",
            "Backprop input = (1000, 32, 32, 8)  Backprop output = (1000, 32, 32, 3)\n"
          ],
          "name": "stdout"
        }
      ]
    },
    {
      "cell_type": "code",
      "metadata": {
        "id": "GLG_0XCoe9h6",
        "colab_type": "code",
        "colab": {}
      },
      "source": [
        "plt.imshow"
      ],
      "execution_count": null,
      "outputs": []
    }
  ]
}