{
 "cells": [
  {
   "cell_type": "code",
   "execution_count": 1,
   "metadata": {},
   "outputs": [],
   "source": [
    "from CNN import CNN\n",
    "from max_pool import max_pool\n",
    "from NeuralNetwork import NeuralNetwork \n",
    "import numpy as np"
   ]
  },
  {
   "cell_type": "code",
   "execution_count": 2,
   "metadata": {},
   "outputs": [],
   "source": [
    "X = np.random.randn(10,32,32,3)"
   ]
  },
  {
   "cell_type": "code",
   "execution_count": 3,
   "metadata": {
    "scrolled": true
   },
   "outputs": [
    {
     "name": "stdout",
     "output_type": "stream",
     "text": [
      "Input shape = (10, 32, 32, 3) Filter shape = (3, 3, 3, 16) Output shape = (10, 32, 32, 16)\n",
      "Input shape = (10, 32, 32, 16) Filter shape = (3, 3, 16, 8) Output shape = (10, 32, 32, 8)\n",
      "Input shape = (10, 32, 32, 8) Filter shape = (5, 5, 8, 32) Output shape = (10, 28, 28, 32)\n",
      "Input shape = (10, 28, 28, 32) Output shape = (10, 14, 14, 32)\n",
      "Input shape = (10, 14, 14, 32) Filter shape = (3, 3, 32, 16) Output shape = (10, 14, 14, 16)\n",
      "The Input after Flattening for MLP (10, 3136)\n",
      "Input shape = (10, 3136) Output shape = (10, 128)\n",
      "Input shape = (10, 128) Output shape = (10, 256)\n",
      "Input shape = (10, 256) Output shape = (10, 100)\n",
      "Backword_Pass\n",
      "Input shape = (10, 100) Output shape = (10, 3136)\n",
      "Backprop input = (10, 14, 14, 16)  Backprop output = (10, 14, 14, 32)\n",
      "Backprop input = (10, 14, 14, 32)  Backprop output = (10, 28, 28, 32)\n",
      "Backprop input = (10, 28, 28, 32)  Backprop output = (10, 32, 32, 8)\n",
      "Backprop input = (10, 32, 32, 8)  Backprop output = (10, 32, 32, 16)\n",
      "Backprop input = (10, 32, 32, 16)  Backprop output = (10, 32, 32, 3)\n"
     ]
    }
   ],
   "source": [
    "conv_layer0 = CNN(n_f = 16 , f = 3 , stride = 1 , padding = 'same')\n",
    "conv_layer1 = CNN(n_f = 8 , f = 3 , stride = 1 , padding = 'same')\n",
    "conv_layer2 = CNN(n_f = 32 , f = 5 , stride = 1 , padding = 'valid')\n",
    "conv_layer3 = CNN(n_f = 16 , f = 3 , stride = 1 , padding = 'same')\n",
    "pooling0 = max_pool(f=2,mode = \"max\",stride=2)\n",
    "neural0 = NeuralNetwork(input_size = 3136,layers = (128,256) ,output_size = 100)\n",
    "\n",
    "first = conv_layer0.Forward_pass(X)\n",
    "second = conv_layer1.Forward_pass(first)\n",
    "third = conv_layer2.Forward_pass(second)\n",
    "fourth = pooling0.Forward_pass(third)\n",
    "fifth = conv_layer3.Forward_pass(fourth)\n",
    "sixth = np.reshape(fifth,(10,-1))\n",
    "\n",
    "print('The Input after Flattening for MLP {}'.format(sixth.shape))\n",
    "\n",
    "seventh = neural0.forward(sixth)\n",
    "\n",
    "\n",
    "print('Backword_Pass')\n",
    "dneural = neural0.backward(seventh)\n",
    "print(\"Input shape = {} Output shape = {}\".format(seventh.shape,dneural.shape))\n",
    "\n",
    "dneural = np.reshape(dneural,fifth.shape)\n",
    "\n",
    "dconv3 = conv_layer3.Backward_pass(dneural)\n",
    "dpool0 = pooling0.Backward_pass(dconv3)\n",
    "dconv2 = conv_layer2.Backward_pass(dpool0)\n",
    "dconv1 = conv_layer1.Backward_pass(dconv2)\n",
    "dconv0 = conv_layer0.Backward_pass(dconv1)"
   ]
  },
  {
   "cell_type": "code",
   "execution_count": null,
   "metadata": {},
   "outputs": [],
   "source": []
  }
 ],
 "metadata": {
  "kernelspec": {
   "display_name": "Python 3",
   "language": "python",
   "name": "python3"
  },
  "language_info": {
   "codemirror_mode": {
    "name": "ipython",
    "version": 3
   },
   "file_extension": ".py",
   "mimetype": "text/x-python",
   "name": "python",
   "nbconvert_exporter": "python",
   "pygments_lexer": "ipython3",
   "version": "3.7.7"
  }
 },
 "nbformat": 4,
 "nbformat_minor": 4
}
