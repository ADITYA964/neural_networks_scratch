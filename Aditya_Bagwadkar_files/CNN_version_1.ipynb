{
  "nbformat": 4,
  "nbformat_minor": 0,
  "metadata": {
    "colab": {
      "name": "Convolutional neural network from scratch.ipynb",
      "provenance": [],
      "collapsed_sections": []
    },
    "kernelspec": {
      "name": "python3",
      "display_name": "Python 3"
    }
  },
  "cells": [
    {
      "cell_type": "code",
      "metadata": {
        "id": "3fnAdsTgMRfy",
        "colab_type": "code",
        "colab": {}
      },
      "source": [
        "import numpy as np\n",
        "import matplotlib.pyplot as plt"
      ],
      "execution_count": 0,
      "outputs": []
    },
    {
      "cell_type": "code",
      "metadata": {
        "id": "wIIbgsNOMY58",
        "colab_type": "code",
        "colab": {}
      },
      "source": [
        "def zero_pad(X,pad):\n",
        "  X_pad = np.pad(X,((0,0),(pad,pad),(pad,pad),(0,0)),'constant',constant_values=(0,0))\n",
        "  return X_pad"
      ],
      "execution_count": 0,
      "outputs": []
    },
    {
      "cell_type": "code",
      "metadata": {
        "id": "bNDYiWlpk8HF",
        "colab_type": "code",
        "colab": {}
      },
      "source": [
        "%matplotlib inline"
      ],
      "execution_count": 0,
      "outputs": []
    },
    {
      "cell_type": "code",
      "metadata": {
        "id": "xnPFg7rZlv-Z",
        "colab_type": "code",
        "colab": {}
      },
      "source": [
        "def conv_single_step(a_slice_prev,W,b):\n",
        "  s=a_slice_prev\n",
        "  Z=np.sum(s)\n",
        "  \n",
        "  Z1=float(Z+b)\n",
        "  return Z1"
      ],
      "execution_count": 0,
      "outputs": []
    },
    {
      "cell_type": "code",
      "metadata": {
        "id": "IFTLcUmYnSJX",
        "colab_type": "code",
        "colab": {}
      },
      "source": [
        "def conv_forward(A_prev,W,b,hyper_parameters):\n",
        "  (m,n_H_prev,n_W_prev,n_C_prev)=np.shape(A_prev)\n",
        "  fig,axarr=plt.subplots(1,2)\n",
        "  print(\"\\nNumber of training examples = \",m)\n",
        "  print(\"\\nHeight dimension of output of previous layer =\",n_H_prev)\n",
        "  print(\"\\nWidth  dimension of output of previous layer =\",n_W_prev)\n",
        "  print(\"\\nNumber of channels in the  output of previous layer =\",n_C_prev)\n",
        "\n",
        "  (f,f,n_C_prev,n_C)=np.shape(W)\n",
        "\n",
        "  print(\"\\nHeight dimension of filter kernel =\",f)\n",
        "  print(\"\\nWidth  dimension of filter kernel =\",f)\n",
        "  print(\"\\nTotal number of filters or number of channels after applying convolutional layer =\",n_C)\n",
        "\n",
        "  stride=hyper_parameters['stride']\n",
        "  pad=hyper_parameters['pad']\n",
        "\n",
        "  print(\"\\nNumber of steps used by filter to move or parse across the output of previous layer =\",stride)\n",
        "  print(\"\\nAmount of padding around each image on vertical and horizontal dimensions = \",pad)\n",
        "\n",
        "  print(\"\\nComputing the height and width dimension of the output using formulas:-\\n\\n\") \n",
        "  print(\"\\n       | n_H_prev - f + 2*pad |                | n_W_prev - f + 2*pad |\")    \n",
        "  print(\"\\n n_H = |----------------------| + 1     n_W =  |----------------------| + 1\")\n",
        "  print(\"\\n       |       stride         |                |       stride         |\")\n",
        "\n",
        "  n_H = int((n_H_prev-f+2*pad)/stride)+1\n",
        "  n_W = int((n_W_prev-f+2*pad)/stride)+1\n",
        "\n",
        "  print(\"\\nHeight dimension of the result = \",n_H) \n",
        "  print(\"\\nWidth  dimension of the result = \",n_W) \n",
        "\n",
        "  Z = np.zeros((m,n_H,n_W,n_C))\n",
        "  print(\"\\nDimensions of the result = \",Z.shape)\n",
        "  \n",
        "\n",
        "  print(\"\\nPadding the input data by zeros \\n\")\n",
        "  A_prev_pad=zero_pad(A_prev,pad)\n",
        "  print(\"\\nDimensions after padding = \",A_prev_pad.shape)\n",
        "  \n",
        "\n",
        "  print(\"\\n Applying convolutional filters on the input data .........\")\n",
        "  for i in range(m):\n",
        "    a_prev_pad = A_prev_pad[i,:,:,:]\n",
        "    \n",
        "    for h in range(n_H):\n",
        "      vert_start = h*stride\n",
        "      vert_end   = h*stride + f\n",
        "\n",
        "      for w in range(n_W):\n",
        "        horiz_start = w*stride\n",
        "        horiz_end   = w*stride + f\n",
        "\n",
        "        for c in range(n_C):\n",
        "          a_slice_prev = a_prev_pad[vert_start:vert_end,horiz_start:horiz_end,:]\n",
        "\n",
        "          weights = W[:,:,:,c]\n",
        "          biases  = b[:,:,:,c]\n",
        "\n",
        "          Z[i,h,w,c] = conv_single_step(a_slice_prev,weights,biases)\n",
        "          axarr[0].imshow(A_prev[i,:,:,0])\n",
        "          axarr[1].imshow(A_prev_pad[i,:,:,0])\n",
        "          \n",
        "          \n",
        "  assert(Z.shape == (m,n_H,n_W,n_C))\n",
        "\n",
        "  cache = (A_prev,W,b,hyper_parameters)\n",
        "\n",
        "  return Z,cache\n"
      ],
      "execution_count": 0,
      "outputs": []
    },
    {
      "cell_type": "code",
      "metadata": {
        "id": "tUm91-GGzmHJ",
        "colab_type": "code",
        "colab": {
          "base_uri": "https://localhost:8080/",
          "height": 1000
        },
        "outputId": "36762a01-833c-478d-f393-ec9cca4b8b70"
      },
      "source": [
        "np.random.seed(1)\n",
        "A_prev=np.random.randn(10,5,7,4)\n",
        "W = np.random.randn(3,3,4,8)\n",
        "b=np.random.randn(1,1,1,8)\n",
        "hyper_parameters= {\"pad\":1,\"stride\":2}\n",
        "\n",
        "Z,cache_conv=conv_forward(A_prev,W,b,hyper_parameters)\n",
        "\n",
        "print(\"\\nZ's mean = \\n\",np.mean(Z))\n",
        "print(\"\\nZ[3,2,1]= \\n\",Z[3,2,1])\n",
        "print(\"\\ncache_conv[0][1][2][3] = \\n \",cache_conv[0][1][2][3])"
      ],
      "execution_count": 173,
      "outputs": [
        {
          "output_type": "stream",
          "text": [
            "\n",
            "Number of training examples =  10\n",
            "\n",
            "Height dimension of output of previous layer = 5\n",
            "\n",
            "Width  dimension of output of previous layer = 7\n",
            "\n",
            "Number of channels in the  output of previous layer = 4\n",
            "\n",
            "Height dimension of filter kernel = 3\n",
            "\n",
            "Width  dimension of filter kernel = 3\n",
            "\n",
            "Total number of filters or number of channels after applying convolutional layer = 8\n",
            "\n",
            "Number of steps used by filter to move or parse across the output of previous layer = 2\n",
            "\n",
            "Amount of padding around each image on vertical and horizontal dimensions =  1\n",
            "\n",
            "Computing the height and width dimension of the output using formulas:-\n",
            "\n",
            "\n",
            "\n",
            "       | n_H_prev - f + 2*pad |                | n_W_prev - f + 2*pad |\n",
            "\n",
            " n_H = |----------------------| + 1     n_W =  |----------------------| + 1\n",
            "\n",
            "       |       stride         |                |       stride         |\n",
            "\n",
            "Height dimension of the result =  3\n",
            "\n",
            "Width  dimension of the result =  4\n",
            "\n",
            "Dimensions of the result =  (10, 3, 4, 8)\n",
            "\n",
            "Padding the input data by zeros \n",
            "\n",
            "\n",
            "Dimensions after padding =  (10, 7, 9, 4)\n",
            "\n",
            " Applying convolutional filters on the input data .........\n",
            "\n",
            "Z's mean = \n",
            " 1.9498833149593615\n",
            "\n",
            "Z[3,2,1]= \n",
            " [-2.14101107 -4.47067799 -2.45996536 -4.88183244 -1.78091765 -4.77884206\n",
            " -4.41652613 -3.6562308 ]\n",
            "\n",
            "cache_conv[0][1][2][3] = \n",
            "  [-1.1191154   1.9560789  -0.3264995  -1.34267579]\n"
          ],
          "name": "stdout"
        },
        {
          "output_type": "display_data",
          "data": {
            "image/png": "[encoded data removed]",
            "text/plain": [
              "<Figure size 432x288 with 2 Axes>"
            ]
          },
          "metadata": {
            "tags": [],
            "needs_background": "light"
          }
        }
      ]
    },
    {
      "cell_type": "code",
      "metadata": {
        "id": "0kbZY0qx_S6W",
        "colab_type": "code",
        "colab": {}
      },
      "source": [
        ""
      ],
      "execution_count": 0,
      "outputs": []
    }
  ]
}